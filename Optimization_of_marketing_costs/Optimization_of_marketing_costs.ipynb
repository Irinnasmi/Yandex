{
 "cells": [
  {
   "cell_type": "markdown",
   "metadata": {},
   "source": [
    "## Аналитика Яндекс.Афиши"
   ]
  },
  {
   "cell_type": "markdown",
   "metadata": {},
   "source": [
    "### [Содержание](#Содержание)  <a name=\"Содержание\"></a>\n",
    "#### [Описание проекта](#Описаниепроекта)  \n",
    "#### [Описание данных](#Описаниеданных)  \n",
    "### [Шаг 1. Загрузка данных и подготовка их к анализу](#Шаг1)  \n",
    "  \n",
    " [     1.1 Таблица visits](#Шаг1.1)   \n",
    " [     1.2 Таблица orders](#Шаг1.2)   \n",
    "[     1.3 Таблица costs](#Шаг1.3)  \n",
    "#### [     1.4 Вывод](#Шаг1.4)  \n",
    "### [Шаг 2. Построить отчёты и посчитать метрики](#Шаг2)   \n",
    "- \n",
    "#### [      2.1 Продукт](#Шаг2.1)   \n",
    "[      2.1.1 Количество пользователей в день, неделю, месяц](#Шаг2.1.1)   \n",
    "[      2.1.2 Количество сессий в день](#Шаг2.1.2)  \n",
    "[      2.1.3 Длительность одной сессии](#Шаг2.1.3)  \n",
    "[2.1.4 Как часто люди возвращаются](#Шаг2.1.4)    \n",
    "- \n",
    "#### [      2.2 Продажи](#Шаг2.2)  \n",
    "[2.2.1 Когда люди начинают покупать?](#Шаг2.2.1)  \n",
    "[2.2.2 Количество покупок за период](#Шаг2.2.2)  \n",
    "[2.2.3  Средний чек за месяц](#Шаг2.2.3)  \n",
    "[2.2.4 Сколько денег приносят? (LTV)](#Шаг2.2.4)\n",
    "- \n",
    "#### [ 2.3 Маркетинг](#Шаг2.3 )  \n",
    " [2.3.1 Расходы: всего / на каждый источник / по времени](#Шаг2.3.1)  \n",
    "[2.3.2 Стоимость привлечения одного покупателя из каждого источника](#Шаг2.3.2)  \n",
    "[2.3.3 Окупаемость расходов (ROI)](#Шаг2.3.3)  \n",
    "\n",
    "  \n",
    "#### [     2.4 Вывод](#Шаг2.4)\n",
    "\n",
    "### [Шаг 3. Вывод: рекомендации маркетологам, куда и сколько стоит вкладывать денег](#Шаг3)  \n",
    " "
   ]
  },
  {
   "cell_type": "markdown",
   "metadata": {},
   "source": [
    "### Шаг 1. Загрузка данных и подготовка их к анализу<a name=\"Шаг1\"></a>"
   ]
  },
  {
   "cell_type": "code",
   "execution_count": 1,
   "metadata": {},
   "outputs": [],
   "source": [
    "import pandas as pd\n",
    "import numpy as np\n",
    "import seaborn as sns\n",
    "from matplotlib import pyplot as plt"
   ]
  },
  {
   "cell_type": "code",
   "execution_count": 2,
   "metadata": {},
   "outputs": [],
   "source": [
    "visits = pd.read_csv('/datasets/visits_log.csv')\n",
    "orders = pd.read_csv('/datasets/orders_log.csv')\n",
    "costs = pd.read_csv('/datasets/costs.csv')"
   ]
  },
  {
   "cell_type": "markdown",
   "metadata": {},
   "source": [
    "#### Таблица **visits**<a name=\"Шаг1.1\"></a>    "
   ]
  },
  {
   "cell_type": "code",
   "execution_count": 3,
   "metadata": {},
   "outputs": [
    {
     "data": {
      "text/html": [
       "<div>\n",
       "<style scoped>\n",
       "    .dataframe tbody tr th:only-of-type {\n",
       "        vertical-align: middle;\n",
       "    }\n",
       "\n",
       "    .dataframe tbody tr th {\n",
       "        vertical-align: top;\n",
       "    }\n",
       "\n",
       "    .dataframe thead th {\n",
       "        text-align: right;\n",
       "    }\n",
       "</style>\n",
       "<table border=\"1\" class=\"dataframe\">\n",
       "  <thead>\n",
       "    <tr style=\"text-align: right;\">\n",
       "      <th></th>\n",
       "      <th>Device</th>\n",
       "      <th>End Ts</th>\n",
       "      <th>Source Id</th>\n",
       "      <th>Start Ts</th>\n",
       "      <th>Uid</th>\n",
       "    </tr>\n",
       "  </thead>\n",
       "  <tbody>\n",
       "    <tr>\n",
       "      <td>0</td>\n",
       "      <td>touch</td>\n",
       "      <td>2017-12-20 17:38:00</td>\n",
       "      <td>4</td>\n",
       "      <td>2017-12-20 17:20:00</td>\n",
       "      <td>16879256277535980062</td>\n",
       "    </tr>\n",
       "    <tr>\n",
       "      <td>1</td>\n",
       "      <td>desktop</td>\n",
       "      <td>2018-02-19 17:21:00</td>\n",
       "      <td>2</td>\n",
       "      <td>2018-02-19 16:53:00</td>\n",
       "      <td>104060357244891740</td>\n",
       "    </tr>\n",
       "    <tr>\n",
       "      <td>2</td>\n",
       "      <td>touch</td>\n",
       "      <td>2017-07-01 01:54:00</td>\n",
       "      <td>5</td>\n",
       "      <td>2017-07-01 01:54:00</td>\n",
       "      <td>7459035603376831527</td>\n",
       "    </tr>\n",
       "    <tr>\n",
       "      <td>3</td>\n",
       "      <td>desktop</td>\n",
       "      <td>2018-05-20 11:23:00</td>\n",
       "      <td>9</td>\n",
       "      <td>2018-05-20 10:59:00</td>\n",
       "      <td>16174680259334210214</td>\n",
       "    </tr>\n",
       "    <tr>\n",
       "      <td>4</td>\n",
       "      <td>desktop</td>\n",
       "      <td>2017-12-27 14:06:00</td>\n",
       "      <td>3</td>\n",
       "      <td>2017-12-27 14:06:00</td>\n",
       "      <td>9969694820036681168</td>\n",
       "    </tr>\n",
       "    <tr>\n",
       "      <td>5</td>\n",
       "      <td>desktop</td>\n",
       "      <td>2017-09-03 21:36:00</td>\n",
       "      <td>5</td>\n",
       "      <td>2017-09-03 21:35:00</td>\n",
       "      <td>16007536194108375387</td>\n",
       "    </tr>\n",
       "    <tr>\n",
       "      <td>6</td>\n",
       "      <td>desktop</td>\n",
       "      <td>2018-01-30 12:09:00</td>\n",
       "      <td>1</td>\n",
       "      <td>2018-01-30 11:13:00</td>\n",
       "      <td>6661610529277171451</td>\n",
       "    </tr>\n",
       "    <tr>\n",
       "      <td>7</td>\n",
       "      <td>touch</td>\n",
       "      <td>2017-11-05 15:15:00</td>\n",
       "      <td>3</td>\n",
       "      <td>2017-11-05 15:14:00</td>\n",
       "      <td>11423865690854540312</td>\n",
       "    </tr>\n",
       "    <tr>\n",
       "      <td>8</td>\n",
       "      <td>desktop</td>\n",
       "      <td>2017-07-19 10:44:00</td>\n",
       "      <td>3</td>\n",
       "      <td>2017-07-19 10:41:00</td>\n",
       "      <td>2987360259350925644</td>\n",
       "    </tr>\n",
       "    <tr>\n",
       "      <td>9</td>\n",
       "      <td>desktop</td>\n",
       "      <td>2017-11-08 13:43:00</td>\n",
       "      <td>5</td>\n",
       "      <td>2017-11-08 13:42:00</td>\n",
       "      <td>1289240080042562063</td>\n",
       "    </tr>\n",
       "  </tbody>\n",
       "</table>\n",
       "</div>"
      ],
      "text/plain": [
       "    Device               End Ts  Source Id             Start Ts  \\\n",
       "0    touch  2017-12-20 17:38:00          4  2017-12-20 17:20:00   \n",
       "1  desktop  2018-02-19 17:21:00          2  2018-02-19 16:53:00   \n",
       "2    touch  2017-07-01 01:54:00          5  2017-07-01 01:54:00   \n",
       "3  desktop  2018-05-20 11:23:00          9  2018-05-20 10:59:00   \n",
       "4  desktop  2017-12-27 14:06:00          3  2017-12-27 14:06:00   \n",
       "5  desktop  2017-09-03 21:36:00          5  2017-09-03 21:35:00   \n",
       "6  desktop  2018-01-30 12:09:00          1  2018-01-30 11:13:00   \n",
       "7    touch  2017-11-05 15:15:00          3  2017-11-05 15:14:00   \n",
       "8  desktop  2017-07-19 10:44:00          3  2017-07-19 10:41:00   \n",
       "9  desktop  2017-11-08 13:43:00          5  2017-11-08 13:42:00   \n",
       "\n",
       "                    Uid  \n",
       "0  16879256277535980062  \n",
       "1    104060357244891740  \n",
       "2   7459035603376831527  \n",
       "3  16174680259334210214  \n",
       "4   9969694820036681168  \n",
       "5  16007536194108375387  \n",
       "6   6661610529277171451  \n",
       "7  11423865690854540312  \n",
       "8   2987360259350925644  \n",
       "9   1289240080042562063  "
      ]
     },
     "execution_count": 3,
     "metadata": {},
     "output_type": "execute_result"
    }
   ],
   "source": [
    "visits.head(10)"
   ]
  },
  {
   "cell_type": "code",
   "execution_count": 4,
   "metadata": {},
   "outputs": [
    {
     "name": "stdout",
     "output_type": "stream",
     "text": [
      "<class 'pandas.core.frame.DataFrame'>\n",
      "RangeIndex: 359400 entries, 0 to 359399\n",
      "Data columns (total 5 columns):\n",
      "Device       359400 non-null object\n",
      "End Ts       359400 non-null object\n",
      "Source Id    359400 non-null int64\n",
      "Start Ts     359400 non-null object\n",
      "Uid          359400 non-null uint64\n",
      "dtypes: int64(1), object(3), uint64(1)\n",
      "memory usage: 13.7+ MB\n"
     ]
    }
   ],
   "source": [
    "visits.info()"
   ]
  },
  {
   "cell_type": "code",
   "execution_count": 5,
   "metadata": {},
   "outputs": [],
   "source": [
    "#Переименовываю столбцы\n",
    "visits = visits.rename(columns={'End Ts': 'session_end', 'Start Ts': 'session_start'})\n",
    "visits.columns = visits.columns.str.lower()\n"
   ]
  },
  {
   "cell_type": "code",
   "execution_count": 6,
   "metadata": {},
   "outputs": [],
   "source": [
    "#Перевод столбцов в формат времени\n",
    "visits['session_end'] = pd.to_datetime(visits['session_end'], format = '%Y-%m-%d %H:%M:%S')\n",
    "visits['session_start'] = pd.to_datetime(visits['session_start'], format = '%Y-%m-%d %H:%M:%S')"
   ]
  },
  {
   "cell_type": "code",
   "execution_count": 7,
   "metadata": {},
   "outputs": [],
   "source": [
    "#Делю числа на месяца, дни и даты\n",
    "visits['session_start_date'] = visits['session_start'].dt.date\n",
    "visits['session_start_week'] = visits['session_start'].dt.week\n",
    "visits['session_start_month'] = visits['session_start'].dt.month\n",
    "visits['session_start_year'] = visits['session_start'].dt.year\n",
    "\n",
    "visits['session_end_date'] = visits['session_end'].dt.date\n",
    "visits['session_end_week'] = visits['session_end'].dt.week\n",
    "visits['session_end_month'] = visits['session_end'].dt.month"
   ]
  },
  {
   "cell_type": "code",
   "execution_count": 8,
   "metadata": {},
   "outputs": [
    {
     "data": {
      "text/plain": [
       "device                 0\n",
       "session_end            0\n",
       "source id              0\n",
       "session_start          0\n",
       "uid                    0\n",
       "session_start_date     0\n",
       "session_start_week     0\n",
       "session_start_month    0\n",
       "session_start_year     0\n",
       "session_end_date       0\n",
       "session_end_week       0\n",
       "session_end_month      0\n",
       "dtype: int64"
      ]
     },
     "execution_count": 8,
     "metadata": {},
     "output_type": "execute_result"
    }
   ],
   "source": [
    "#Проверка на пропуски\n",
    "visits.isna().sum()\n"
   ]
  },
  {
   "cell_type": "code",
   "execution_count": 9,
   "metadata": {},
   "outputs": [
    {
     "data": {
      "text/plain": [
       "0"
      ]
     },
     "execution_count": 9,
     "metadata": {},
     "output_type": "execute_result"
    }
   ],
   "source": [
    "#Проверка на дубликаты\n",
    "visits.duplicated().sum()"
   ]
  },
  {
   "cell_type": "markdown",
   "metadata": {},
   "source": [
    "#### Таблица **orders**<a name=\"Шаг1.2\"></a>    "
   ]
  },
  {
   "cell_type": "code",
   "execution_count": 10,
   "metadata": {},
   "outputs": [
    {
     "data": {
      "text/html": [
       "<div>\n",
       "<style scoped>\n",
       "    .dataframe tbody tr th:only-of-type {\n",
       "        vertical-align: middle;\n",
       "    }\n",
       "\n",
       "    .dataframe tbody tr th {\n",
       "        vertical-align: top;\n",
       "    }\n",
       "\n",
       "    .dataframe thead th {\n",
       "        text-align: right;\n",
       "    }\n",
       "</style>\n",
       "<table border=\"1\" class=\"dataframe\">\n",
       "  <thead>\n",
       "    <tr style=\"text-align: right;\">\n",
       "      <th></th>\n",
       "      <th>Buy Ts</th>\n",
       "      <th>Revenue</th>\n",
       "      <th>Uid</th>\n",
       "    </tr>\n",
       "  </thead>\n",
       "  <tbody>\n",
       "    <tr>\n",
       "      <td>0</td>\n",
       "      <td>2017-06-01 00:10:00</td>\n",
       "      <td>17.00</td>\n",
       "      <td>10329302124590727494</td>\n",
       "    </tr>\n",
       "    <tr>\n",
       "      <td>1</td>\n",
       "      <td>2017-06-01 00:25:00</td>\n",
       "      <td>0.55</td>\n",
       "      <td>11627257723692907447</td>\n",
       "    </tr>\n",
       "    <tr>\n",
       "      <td>2</td>\n",
       "      <td>2017-06-01 00:27:00</td>\n",
       "      <td>0.37</td>\n",
       "      <td>17903680561304213844</td>\n",
       "    </tr>\n",
       "    <tr>\n",
       "      <td>3</td>\n",
       "      <td>2017-06-01 00:29:00</td>\n",
       "      <td>0.55</td>\n",
       "      <td>16109239769442553005</td>\n",
       "    </tr>\n",
       "    <tr>\n",
       "      <td>4</td>\n",
       "      <td>2017-06-01 07:58:00</td>\n",
       "      <td>0.37</td>\n",
       "      <td>14200605875248379450</td>\n",
       "    </tr>\n",
       "    <tr>\n",
       "      <td>5</td>\n",
       "      <td>2017-06-01 08:43:00</td>\n",
       "      <td>0.18</td>\n",
       "      <td>10402394430196413321</td>\n",
       "    </tr>\n",
       "    <tr>\n",
       "      <td>6</td>\n",
       "      <td>2017-06-01 08:54:00</td>\n",
       "      <td>1.83</td>\n",
       "      <td>12464626743129688638</td>\n",
       "    </tr>\n",
       "    <tr>\n",
       "      <td>7</td>\n",
       "      <td>2017-06-01 09:22:00</td>\n",
       "      <td>1.22</td>\n",
       "      <td>3644482766749211722</td>\n",
       "    </tr>\n",
       "    <tr>\n",
       "      <td>8</td>\n",
       "      <td>2017-06-01 09:22:00</td>\n",
       "      <td>3.30</td>\n",
       "      <td>17542070709969841479</td>\n",
       "    </tr>\n",
       "    <tr>\n",
       "      <td>9</td>\n",
       "      <td>2017-06-01 09:23:00</td>\n",
       "      <td>0.37</td>\n",
       "      <td>1074355127080856382</td>\n",
       "    </tr>\n",
       "  </tbody>\n",
       "</table>\n",
       "</div>"
      ],
      "text/plain": [
       "                Buy Ts  Revenue                   Uid\n",
       "0  2017-06-01 00:10:00    17.00  10329302124590727494\n",
       "1  2017-06-01 00:25:00     0.55  11627257723692907447\n",
       "2  2017-06-01 00:27:00     0.37  17903680561304213844\n",
       "3  2017-06-01 00:29:00     0.55  16109239769442553005\n",
       "4  2017-06-01 07:58:00     0.37  14200605875248379450\n",
       "5  2017-06-01 08:43:00     0.18  10402394430196413321\n",
       "6  2017-06-01 08:54:00     1.83  12464626743129688638\n",
       "7  2017-06-01 09:22:00     1.22   3644482766749211722\n",
       "8  2017-06-01 09:22:00     3.30  17542070709969841479\n",
       "9  2017-06-01 09:23:00     0.37   1074355127080856382"
      ]
     },
     "execution_count": 10,
     "metadata": {},
     "output_type": "execute_result"
    }
   ],
   "source": [
    "orders.head(10)"
   ]
  },
  {
   "cell_type": "code",
   "execution_count": 11,
   "metadata": {},
   "outputs": [
    {
     "name": "stdout",
     "output_type": "stream",
     "text": [
      "<class 'pandas.core.frame.DataFrame'>\n",
      "RangeIndex: 50415 entries, 0 to 50414\n",
      "Data columns (total 3 columns):\n",
      "Buy Ts     50415 non-null object\n",
      "Revenue    50415 non-null float64\n",
      "Uid        50415 non-null uint64\n",
      "dtypes: float64(1), object(1), uint64(1)\n",
      "memory usage: 1.2+ MB\n"
     ]
    }
   ],
   "source": [
    "orders.info()"
   ]
  },
  {
   "cell_type": "code",
   "execution_count": 12,
   "metadata": {},
   "outputs": [],
   "source": [
    "#Переименовываю столбцы\n",
    "orders = orders.rename(columns={'Buy Ts': 'date_of_purchase'})\n",
    "orders.columns = orders.columns.str.lower()"
   ]
  },
  {
   "cell_type": "code",
   "execution_count": 13,
   "metadata": {},
   "outputs": [],
   "source": [
    "#Перевод столбца в формат времени\n",
    "orders['date_of_purchase'] = pd.to_datetime(orders['date_of_purchase'], format = '%Y-%m-%d %H:%M:%S')"
   ]
  },
  {
   "cell_type": "code",
   "execution_count": 14,
   "metadata": {},
   "outputs": [],
   "source": [
    "#Делю числа на месяца, дни и даты\n",
    "orders['date_date_of_purchase'] = orders['date_of_purchase'].dt.date\n",
    "orders['month_of_purchase'] = orders['date_of_purchase'].dt.month\n",
    "orders['week_of_purchase'] = orders['date_of_purchase'].dt.week"
   ]
  },
  {
   "cell_type": "markdown",
   "metadata": {},
   "source": [
    "#### Таблица **costs**<a name=\"Шаг1.3\"></a>   "
   ]
  },
  {
   "cell_type": "code",
   "execution_count": 15,
   "metadata": {},
   "outputs": [
    {
     "data": {
      "text/html": [
       "<div>\n",
       "<style scoped>\n",
       "    .dataframe tbody tr th:only-of-type {\n",
       "        vertical-align: middle;\n",
       "    }\n",
       "\n",
       "    .dataframe tbody tr th {\n",
       "        vertical-align: top;\n",
       "    }\n",
       "\n",
       "    .dataframe thead th {\n",
       "        text-align: right;\n",
       "    }\n",
       "</style>\n",
       "<table border=\"1\" class=\"dataframe\">\n",
       "  <thead>\n",
       "    <tr style=\"text-align: right;\">\n",
       "      <th></th>\n",
       "      <th>source_id</th>\n",
       "      <th>dt</th>\n",
       "      <th>costs</th>\n",
       "    </tr>\n",
       "  </thead>\n",
       "  <tbody>\n",
       "    <tr>\n",
       "      <td>0</td>\n",
       "      <td>1</td>\n",
       "      <td>2017-06-01</td>\n",
       "      <td>75.20</td>\n",
       "    </tr>\n",
       "    <tr>\n",
       "      <td>1</td>\n",
       "      <td>1</td>\n",
       "      <td>2017-06-02</td>\n",
       "      <td>62.25</td>\n",
       "    </tr>\n",
       "    <tr>\n",
       "      <td>2</td>\n",
       "      <td>1</td>\n",
       "      <td>2017-06-03</td>\n",
       "      <td>36.53</td>\n",
       "    </tr>\n",
       "    <tr>\n",
       "      <td>3</td>\n",
       "      <td>1</td>\n",
       "      <td>2017-06-04</td>\n",
       "      <td>55.00</td>\n",
       "    </tr>\n",
       "    <tr>\n",
       "      <td>4</td>\n",
       "      <td>1</td>\n",
       "      <td>2017-06-05</td>\n",
       "      <td>57.08</td>\n",
       "    </tr>\n",
       "    <tr>\n",
       "      <td>5</td>\n",
       "      <td>1</td>\n",
       "      <td>2017-06-06</td>\n",
       "      <td>40.39</td>\n",
       "    </tr>\n",
       "    <tr>\n",
       "      <td>6</td>\n",
       "      <td>1</td>\n",
       "      <td>2017-06-07</td>\n",
       "      <td>40.59</td>\n",
       "    </tr>\n",
       "    <tr>\n",
       "      <td>7</td>\n",
       "      <td>1</td>\n",
       "      <td>2017-06-08</td>\n",
       "      <td>56.63</td>\n",
       "    </tr>\n",
       "    <tr>\n",
       "      <td>8</td>\n",
       "      <td>1</td>\n",
       "      <td>2017-06-09</td>\n",
       "      <td>40.16</td>\n",
       "    </tr>\n",
       "    <tr>\n",
       "      <td>9</td>\n",
       "      <td>1</td>\n",
       "      <td>2017-06-10</td>\n",
       "      <td>43.24</td>\n",
       "    </tr>\n",
       "  </tbody>\n",
       "</table>\n",
       "</div>"
      ],
      "text/plain": [
       "   source_id          dt  costs\n",
       "0          1  2017-06-01  75.20\n",
       "1          1  2017-06-02  62.25\n",
       "2          1  2017-06-03  36.53\n",
       "3          1  2017-06-04  55.00\n",
       "4          1  2017-06-05  57.08\n",
       "5          1  2017-06-06  40.39\n",
       "6          1  2017-06-07  40.59\n",
       "7          1  2017-06-08  56.63\n",
       "8          1  2017-06-09  40.16\n",
       "9          1  2017-06-10  43.24"
      ]
     },
     "execution_count": 15,
     "metadata": {},
     "output_type": "execute_result"
    }
   ],
   "source": [
    "costs.head(10)"
   ]
  },
  {
   "cell_type": "code",
   "execution_count": 16,
   "metadata": {},
   "outputs": [
    {
     "name": "stdout",
     "output_type": "stream",
     "text": [
      "<class 'pandas.core.frame.DataFrame'>\n",
      "RangeIndex: 2542 entries, 0 to 2541\n",
      "Data columns (total 3 columns):\n",
      "source_id    2542 non-null int64\n",
      "dt           2542 non-null object\n",
      "costs        2542 non-null float64\n",
      "dtypes: float64(1), int64(1), object(1)\n",
      "memory usage: 59.7+ KB\n"
     ]
    }
   ],
   "source": [
    "costs.info()"
   ]
  },
  {
   "cell_type": "code",
   "execution_count": 17,
   "metadata": {},
   "outputs": [],
   "source": [
    "#Переименовываю столбцы\n",
    "costs = costs.rename(columns={'dt': 'date'})\n",
    "costs.columns = costs.columns.str.lower()"
   ]
  },
  {
   "cell_type": "code",
   "execution_count": 18,
   "metadata": {},
   "outputs": [],
   "source": [
    "#Перевод столбца в формат времени\n",
    "costs['date'] = pd.to_datetime(costs['date'], format = '%Y-%m-%d %H:%M:%S')"
   ]
  },
  {
   "cell_type": "code",
   "execution_count": 19,
   "metadata": {},
   "outputs": [],
   "source": [
    "#Делю числа на месяца, дни и даты\n",
    "costs['date_month'] = costs['date'].dt.month\n",
    "costs['date_week'] = costs['date'].dt.week\n"
   ]
  },
  {
   "cell_type": "markdown",
   "metadata": {},
   "source": [
    "#### Вывод:<a name=\"Шаг1.4\"></a>    \n",
    "Столбцы с датами переведены в формат даты и переименованы, числа разбиты на месяца, недели и даты.  \n",
    "Пропуски и дубликаты в данных отсутствуют.\n"
   ]
  },
  {
   "cell_type": "markdown",
   "metadata": {},
   "source": [
    "### Шаг 2. Построить отчёты и посчитать метрики<a name=\"Шаг2\"></a>    "
   ]
  },
  {
   "cell_type": "markdown",
   "metadata": {},
   "source": [
    "#### 2.1 Продукт <a name=\"Шаг2.1\"></a>    "
   ]
  },
  {
   "cell_type": "markdown",
   "metadata": {},
   "source": [
    "##### 2.1.1 Количество пользователей в день, неделю, месяц<a name=\"Шаг2.1.1\"></a>    \n"
   ]
  },
  {
   "cell_type": "code",
   "execution_count": 20,
   "metadata": {
    "scrolled": true
   },
   "outputs": [
    {
     "name": "stdout",
     "output_type": "stream",
     "text": [
      "Количество пользователей в день: 907\n",
      "Количество пользователей в неделю: 5716\n",
      "Количество пользователей в месяц: 23228\n"
     ]
    }
   ],
   "source": [
    "#Группируем данные по уникальным пользователям и нахожу среднее для определения количества пользователей\n",
    "dau_total = visits.groupby('session_start_date').agg({'uid': 'nunique'}).mean()\n",
    "wau_total = visits.groupby(['session_start_year', 'session_start_week']).agg({'uid': 'nunique'}).mean()\n",
    "mau_total = visits.groupby(['session_start_year', 'session_start_month']).agg({'uid': 'nunique'}).mean()\n",
    "print('Количество пользователей в день:', int(dau_total))\n",
    "print('Количество пользователей в неделю:', int(wau_total))\n",
    "print('Количество пользователей в месяц:', int(mau_total))"
   ]
  },
  {
   "cell_type": "code",
   "execution_count": 70,
   "metadata": {},
   "outputs": [],
   "source": [
    "#Функция построения графиков, а также средних значений числа пользователей в день/неделю/месяц\n",
    "\n",
    "def visits_counter(x):\n",
    "    result = visits.sort_values(by = x).groupby(x).agg({'uid':'nunique'})\n",
    "    result.plot(grid = True, figsize = (15, 6))\n",
    "    \n",
    "    return result.describe()"
   ]
  },
  {
   "cell_type": "code",
   "execution_count": 71,
   "metadata": {},
   "outputs": [
    {
     "data": {
      "text/html": [
       "<div>\n",
       "<style scoped>\n",
       "    .dataframe tbody tr th:only-of-type {\n",
       "        vertical-align: middle;\n",
       "    }\n",
       "\n",
       "    .dataframe tbody tr th {\n",
       "        vertical-align: top;\n",
       "    }\n",
       "\n",
       "    .dataframe thead th {\n",
       "        text-align: right;\n",
       "    }\n",
       "</style>\n",
       "<table border=\"1\" class=\"dataframe\">\n",
       "  <thead>\n",
       "    <tr style=\"text-align: right;\">\n",
       "      <th></th>\n",
       "      <th>uid</th>\n",
       "    </tr>\n",
       "  </thead>\n",
       "  <tbody>\n",
       "    <tr>\n",
       "      <td>count</td>\n",
       "      <td>364.000000</td>\n",
       "    </tr>\n",
       "    <tr>\n",
       "      <td>mean</td>\n",
       "      <td>907.991758</td>\n",
       "    </tr>\n",
       "    <tr>\n",
       "      <td>std</td>\n",
       "      <td>370.513838</td>\n",
       "    </tr>\n",
       "    <tr>\n",
       "      <td>min</td>\n",
       "      <td>1.000000</td>\n",
       "    </tr>\n",
       "    <tr>\n",
       "      <td>25%</td>\n",
       "      <td>594.000000</td>\n",
       "    </tr>\n",
       "    <tr>\n",
       "      <td>50%</td>\n",
       "      <td>921.000000</td>\n",
       "    </tr>\n",
       "    <tr>\n",
       "      <td>75%</td>\n",
       "      <td>1173.000000</td>\n",
       "    </tr>\n",
       "    <tr>\n",
       "      <td>max</td>\n",
       "      <td>3319.000000</td>\n",
       "    </tr>\n",
       "  </tbody>\n",
       "</table>\n",
       "</div>"
      ],
      "text/plain": [
       "               uid\n",
       "count   364.000000\n",
       "mean    907.991758\n",
       "std     370.513838\n",
       "min       1.000000\n",
       "25%     594.000000\n",
       "50%     921.000000\n",
       "75%    1173.000000\n",
       "max    3319.000000"
      ]
     },
     "execution_count": 71,
     "metadata": {},
     "output_type": "execute_result"
    },
    {
     "data": {
      "image/png": "[encoded data removed]",
      "text/plain": [
       "<Figure size 1080x432 with 1 Axes>"
      ]
     },
     "metadata": {
      "needs_background": "light"
     },
     "output_type": "display_data"
    }
   ],
   "source": [
    "#Данные и график количества пользователей в день\n",
    "visits_counter('session_start_date')"
   ]
  },
  {
   "cell_type": "code",
   "execution_count": 72,
   "metadata": {},
   "outputs": [
    {
     "data": {
      "text/html": [
       "<div>\n",
       "<style scoped>\n",
       "    .dataframe tbody tr th:only-of-type {\n",
       "        vertical-align: middle;\n",
       "    }\n",
       "\n",
       "    .dataframe tbody tr th {\n",
       "        vertical-align: top;\n",
       "    }\n",
       "\n",
       "    .dataframe thead th {\n",
       "        text-align: right;\n",
       "    }\n",
       "</style>\n",
       "<table border=\"1\" class=\"dataframe\">\n",
       "  <thead>\n",
       "    <tr style=\"text-align: right;\">\n",
       "      <th></th>\n",
       "      <th>uid</th>\n",
       "    </tr>\n",
       "    <tr>\n",
       "      <th>session_start_date</th>\n",
       "      <th></th>\n",
       "    </tr>\n",
       "  </thead>\n",
       "  <tbody>\n",
       "    <tr>\n",
       "      <td>2017-11-24</td>\n",
       "      <td>3319</td>\n",
       "    </tr>\n",
       "  </tbody>\n",
       "</table>\n",
       "</div>"
      ],
      "text/plain": [
       "                     uid\n",
       "session_start_date      \n",
       "2017-11-24          3319"
      ]
     },
     "execution_count": 72,
     "metadata": {},
     "output_type": "execute_result"
    }
   ],
   "source": [
    "#Посмотрим на аномальные показатели\n",
    "anomaly = visits.groupby('session_start_date').agg({'uid':'nunique'}) \n",
    "anomaly[anomaly['uid'] >= 2000]"
   ]
  },
  {
   "cell_type": "markdown",
   "metadata": {},
   "source": [
    "Выделяется максимум 3319 - 2017-11-24, возможно, в этот день проводилась какая-то акция, маркетологи запустили активную рекламную компанию"
   ]
  },
  {
   "cell_type": "code",
   "execution_count": 73,
   "metadata": {},
   "outputs": [
    {
     "data": {
      "text/html": [
       "<div>\n",
       "<style scoped>\n",
       "    .dataframe tbody tr th:only-of-type {\n",
       "        vertical-align: middle;\n",
       "    }\n",
       "\n",
       "    .dataframe tbody tr th {\n",
       "        vertical-align: top;\n",
       "    }\n",
       "\n",
       "    .dataframe thead th {\n",
       "        text-align: right;\n",
       "    }\n",
       "</style>\n",
       "<table border=\"1\" class=\"dataframe\">\n",
       "  <thead>\n",
       "    <tr style=\"text-align: right;\">\n",
       "      <th></th>\n",
       "      <th>uid</th>\n",
       "    </tr>\n",
       "  </thead>\n",
       "  <tbody>\n",
       "    <tr>\n",
       "      <td>count</td>\n",
       "      <td>52.000000</td>\n",
       "    </tr>\n",
       "    <tr>\n",
       "      <td>mean</td>\n",
       "      <td>5825.288462</td>\n",
       "    </tr>\n",
       "    <tr>\n",
       "      <td>std</td>\n",
       "      <td>2004.308969</td>\n",
       "    </tr>\n",
       "    <tr>\n",
       "      <td>min</td>\n",
       "      <td>2364.000000</td>\n",
       "    </tr>\n",
       "    <tr>\n",
       "      <td>25%</td>\n",
       "      <td>4128.750000</td>\n",
       "    </tr>\n",
       "    <tr>\n",
       "      <td>50%</td>\n",
       "      <td>6233.000000</td>\n",
       "    </tr>\n",
       "    <tr>\n",
       "      <td>75%</td>\n",
       "      <td>7420.750000</td>\n",
       "    </tr>\n",
       "    <tr>\n",
       "      <td>max</td>\n",
       "      <td>10586.000000</td>\n",
       "    </tr>\n",
       "  </tbody>\n",
       "</table>\n",
       "</div>"
      ],
      "text/plain": [
       "                uid\n",
       "count     52.000000\n",
       "mean    5825.288462\n",
       "std     2004.308969\n",
       "min     2364.000000\n",
       "25%     4128.750000\n",
       "50%     6233.000000\n",
       "75%     7420.750000\n",
       "max    10586.000000"
      ]
     },
     "execution_count": 73,
     "metadata": {},
     "output_type": "execute_result"
    },
    {
     "data": {
      "image/png": "[encoded data removed]",
      "text/plain": [
       "<Figure size 1080x432 with 1 Axes>"
      ]
     },
     "metadata": {
      "needs_background": "light"
     },
     "output_type": "display_data"
    }
   ],
   "source": [
    "#Данные и график количества пользователей в неделю\n",
    "visits_counter('session_start_week')"
   ]
  },
  {
   "cell_type": "markdown",
   "metadata": {},
   "source": [
    "Наблюдается падение прихода пользователей к 30 неделе, однако потом график растет, что показывает на повышенный интерес, это может может быть связано с сезонностью или проведением акций."
   ]
  },
  {
   "cell_type": "code",
   "execution_count": 74,
   "metadata": {},
   "outputs": [
    {
     "data": {
      "text/html": [
       "<div>\n",
       "<style scoped>\n",
       "    .dataframe tbody tr th:only-of-type {\n",
       "        vertical-align: middle;\n",
       "    }\n",
       "\n",
       "    .dataframe tbody tr th {\n",
       "        vertical-align: top;\n",
       "    }\n",
       "\n",
       "    .dataframe thead th {\n",
       "        text-align: right;\n",
       "    }\n",
       "</style>\n",
       "<table border=\"1\" class=\"dataframe\">\n",
       "  <thead>\n",
       "    <tr style=\"text-align: right;\">\n",
       "      <th></th>\n",
       "      <th>uid</th>\n",
       "    </tr>\n",
       "  </thead>\n",
       "  <tbody>\n",
       "    <tr>\n",
       "      <td>count</td>\n",
       "      <td>12.000000</td>\n",
       "    </tr>\n",
       "    <tr>\n",
       "      <td>mean</td>\n",
       "      <td>23228.416667</td>\n",
       "    </tr>\n",
       "    <tr>\n",
       "      <td>std</td>\n",
       "      <td>7546.380462</td>\n",
       "    </tr>\n",
       "    <tr>\n",
       "      <td>min</td>\n",
       "      <td>11631.000000</td>\n",
       "    </tr>\n",
       "    <tr>\n",
       "      <td>25%</td>\n",
       "      <td>17777.000000</td>\n",
       "    </tr>\n",
       "    <tr>\n",
       "      <td>50%</td>\n",
       "      <td>24240.500000</td>\n",
       "    </tr>\n",
       "    <tr>\n",
       "      <td>75%</td>\n",
       "      <td>28984.750000</td>\n",
       "    </tr>\n",
       "    <tr>\n",
       "      <td>max</td>\n",
       "      <td>32797.000000</td>\n",
       "    </tr>\n",
       "  </tbody>\n",
       "</table>\n",
       "</div>"
      ],
      "text/plain": [
       "                uid\n",
       "count     12.000000\n",
       "mean   23228.416667\n",
       "std     7546.380462\n",
       "min    11631.000000\n",
       "25%    17777.000000\n",
       "50%    24240.500000\n",
       "75%    28984.750000\n",
       "max    32797.000000"
      ]
     },
     "execution_count": 74,
     "metadata": {},
     "output_type": "execute_result"
    },
    {
     "data": {
      "image/png": "[encoded data removed]",
      "text/plain": [
       "<Figure size 1080x432 with 1 Axes>"
      ]
     },
     "metadata": {
      "needs_background": "light"
     },
     "output_type": "display_data"
    }
   ],
   "source": [
    "#Данные и график количества пользователей в месяц\n",
    "visits_counter('session_start_month')"
   ]
  },
  {
   "cell_type": "markdown",
   "metadata": {},
   "source": [
    "Ближе к осени пользователей приходит больше и весной количество пользователей падает, кажется логичным, так как в хорошую погоду люди проводят больше времени на свежем воздухе, а вот когда на улице холодно - предпочитают находиться в помещениях, то есть посещать музеи, кинотеатры, театры."
   ]
  },
  {
   "cell_type": "markdown",
   "metadata": {},
   "source": [
    "##### 2.1.2 Количество сессий в день<a name=\"Шаг2.1.2\"></a> \n"
   ]
  },
  {
   "cell_type": "code",
   "execution_count": 26,
   "metadata": {},
   "outputs": [
    {
     "data": {
      "text/plain": [
       "count     364.000000\n",
       "mean      987.362637\n",
       "std       418.994796\n",
       "min         1.000000\n",
       "25%       635.500000\n",
       "50%      1003.000000\n",
       "75%      1280.000000\n",
       "max      4042.000000\n",
       "Name: session_start_date, dtype: float64"
      ]
     },
     "execution_count": 26,
     "metadata": {},
     "output_type": "execute_result"
    },
    {
     "data": {
      "image/png": "[encoded data removed]",
      "text/plain": [
       "<Figure size 1080x432 with 1 Axes>"
      ]
     },
     "metadata": {
      "needs_background": "light"
     },
     "output_type": "display_data"
    }
   ],
   "source": [
    "session_number = visits['session_start_date'].value_counts()\n",
    "session_number.plot(grid = True, figsize = (15,6))\n",
    "session_number.describe()"
   ]
  },
  {
   "cell_type": "markdown",
   "metadata": {},
   "source": [
    "Количество сессий в день приближено к количеству пользователей в день, похоже, чаще всего пользователи заходят на сайт по-одному разу, либо  никак не авторизуются и каждый последующий заход на сайт пользователю присваивается новый uid."
   ]
  },
  {
   "cell_type": "markdown",
   "metadata": {},
   "source": [
    "##### 2.1.3 Длительность одной сессии<a name=\"Шаг2.1.3\"></a> \n"
   ]
  },
  {
   "cell_type": "code",
   "execution_count": 169,
   "metadata": {},
   "outputs": [
    {
     "data": {
      "text/plain": [
       "count                    359400\n",
       "mean     0 days 00:10:43.025687\n",
       "std      0 days 00:16:37.127760\n",
       "min           -1 days +23:14:00\n",
       "25%             0 days 00:02:00\n",
       "50%             0 days 00:05:00\n",
       "75%             0 days 00:14:00\n",
       "max             0 days 11:51:00\n",
       "Name: duration, dtype: object"
      ]
     },
     "execution_count": 169,
     "metadata": {},
     "output_type": "execute_result"
    }
   ],
   "source": [
    "\n",
    "visits['duration'] = visits['session_end'] - visits['session_start']\n",
    "\n",
    "visits['duration'].describe()"
   ]
  },
  {
   "cell_type": "markdown",
   "metadata": {},
   "source": [
    "Минимальная длительность сессии -1 days +23:14:00, похоже на ошибку в программе регистрации начала и окончания сессии;  \n",
    "В среднем на сайте проводят 10 минут"
   ]
  },
  {
   "cell_type": "markdown",
   "metadata": {},
   "source": [
    "##### 2.1.4 Как часто люди возвращаются<a name=\"Шаг2.1.4\"></a> "
   ]
  },
  {
   "cell_type": "code",
   "execution_count": 28,
   "metadata": {},
   "outputs": [],
   "source": [
    "#Определяю дату, когда пользователь впервые проявил активность\n",
    "first_activity_date = visits.groupby('uid')['session_start'].min()\n",
    "first_activity_date.name = 'first_activity_date'"
   ]
  },
  {
   "cell_type": "code",
   "execution_count": 29,
   "metadata": {},
   "outputs": [],
   "source": [
    "#Объединяю его с исходным датафреймом \n",
    "\n",
    "visits = visits.merge(first_activity_date, on = 'uid')"
   ]
  },
  {
   "cell_type": "code",
   "execution_count": 30,
   "metadata": {},
   "outputs": [],
   "source": [
    "#Привожу данные к формату дата время помесячно\n",
    "visits['first_activity_month'] = visits['first_activity_date'].astype('datetime64[M]')\n",
    "visits['activity_month'] = visits['session_start'].astype('datetime64[M]')\n",
    "\n",
    "#рассчитываю lifetime пользователя в рамках когорты\n",
    "visits['cohort_lifetime'] = visits['activity_month'] - visits['first_activity_month']\n",
    "visits['cohort_lifetime'] = visits['cohort_lifetime'] / np.timedelta64(1,'M')\n",
    "visits['cohort_lifetime'] = visits['cohort_lifetime'].round().astype('int')"
   ]
  },
  {
   "cell_type": "code",
   "execution_count": 31,
   "metadata": {},
   "outputs": [],
   "source": [
    "#Группирую данные по когорте и lifetime\n",
    "#Считаю для каждой когорты количество активных пользователей на определённую неделю жизни\n",
    "\n",
    "cohorts = visits.groupby(['first_activity_month','cohort_lifetime']).agg({'uid':'nunique'}).reset_index()"
   ]
  },
  {
   "cell_type": "code",
   "execution_count": 32,
   "metadata": {},
   "outputs": [
    {
     "data": {
      "text/html": [
       "<div>\n",
       "<style scoped>\n",
       "    .dataframe tbody tr th:only-of-type {\n",
       "        vertical-align: middle;\n",
       "    }\n",
       "\n",
       "    .dataframe tbody tr th {\n",
       "        vertical-align: top;\n",
       "    }\n",
       "\n",
       "    .dataframe thead th {\n",
       "        text-align: right;\n",
       "    }\n",
       "</style>\n",
       "<table border=\"1\" class=\"dataframe\">\n",
       "  <thead>\n",
       "    <tr style=\"text-align: right;\">\n",
       "      <th></th>\n",
       "      <th>first_activity_month</th>\n",
       "      <th>uid</th>\n",
       "    </tr>\n",
       "  </thead>\n",
       "  <tbody>\n",
       "    <tr>\n",
       "      <td>0</td>\n",
       "      <td>2017-06-01</td>\n",
       "      <td>13259</td>\n",
       "    </tr>\n",
       "    <tr>\n",
       "      <td>12</td>\n",
       "      <td>2017-07-01</td>\n",
       "      <td>13140</td>\n",
       "    </tr>\n",
       "    <tr>\n",
       "      <td>23</td>\n",
       "      <td>2017-08-01</td>\n",
       "      <td>10181</td>\n",
       "    </tr>\n",
       "    <tr>\n",
       "      <td>33</td>\n",
       "      <td>2017-09-01</td>\n",
       "      <td>16704</td>\n",
       "    </tr>\n",
       "    <tr>\n",
       "      <td>42</td>\n",
       "      <td>2017-10-01</td>\n",
       "      <td>25977</td>\n",
       "    </tr>\n",
       "  </tbody>\n",
       "</table>\n",
       "</div>"
      ],
      "text/plain": [
       "   first_activity_month    uid\n",
       "0            2017-06-01  13259\n",
       "12           2017-07-01  13140\n",
       "23           2017-08-01  10181\n",
       "33           2017-09-01  16704\n",
       "42           2017-10-01  25977"
      ]
     },
     "execution_count": 32,
     "metadata": {},
     "output_type": "execute_result"
    }
   ],
   "source": [
    "#Вывожу исходное количество пользователей в когорте на нулевую неделю\n",
    "initial_users_count = cohorts[cohorts['cohort_lifetime'] == 0][['first_activity_month','uid']]\n",
    "\n",
    "initial_users_count.head()"
   ]
  },
  {
   "cell_type": "code",
   "execution_count": 33,
   "metadata": {},
   "outputs": [],
   "source": [
    "#Переименовываю столбец\n",
    "initial_users_count = initial_users_count.rename(columns={'uid':'cohort_users'})"
   ]
  },
  {
   "cell_type": "code",
   "execution_count": 34,
   "metadata": {},
   "outputs": [],
   "source": [
    "#Объединяю данные по когортам с исходным количеством пользователей в когорте\n",
    "cohorts = cohorts.merge(initial_users_count,on='first_activity_month')"
   ]
  },
  {
   "cell_type": "code",
   "execution_count": 35,
   "metadata": {},
   "outputs": [],
   "source": [
    "# Рассчитываю Retention Rate\n",
    "cohorts['retention'] = cohorts['uid']/cohorts['cohort_users']"
   ]
  },
  {
   "cell_type": "code",
   "execution_count": 36,
   "metadata": {},
   "outputs": [
    {
     "data": {
      "text/html": [
       "<div>\n",
       "<style scoped>\n",
       "    .dataframe tbody tr th:only-of-type {\n",
       "        vertical-align: middle;\n",
       "    }\n",
       "\n",
       "    .dataframe tbody tr th {\n",
       "        vertical-align: top;\n",
       "    }\n",
       "\n",
       "    .dataframe thead th {\n",
       "        text-align: right;\n",
       "    }\n",
       "</style>\n",
       "<table border=\"1\" class=\"dataframe\">\n",
       "  <thead>\n",
       "    <tr style=\"text-align: right;\">\n",
       "      <th>cohort_lifetime</th>\n",
       "      <th>0</th>\n",
       "      <th>1</th>\n",
       "      <th>2</th>\n",
       "      <th>3</th>\n",
       "      <th>4</th>\n",
       "      <th>5</th>\n",
       "      <th>6</th>\n",
       "      <th>7</th>\n",
       "      <th>8</th>\n",
       "      <th>9</th>\n",
       "      <th>10</th>\n",
       "      <th>11</th>\n",
       "    </tr>\n",
       "    <tr>\n",
       "      <th>first_activity_month</th>\n",
       "      <th></th>\n",
       "      <th></th>\n",
       "      <th></th>\n",
       "      <th></th>\n",
       "      <th></th>\n",
       "      <th></th>\n",
       "      <th></th>\n",
       "      <th></th>\n",
       "      <th></th>\n",
       "      <th></th>\n",
       "      <th></th>\n",
       "      <th></th>\n",
       "    </tr>\n",
       "  </thead>\n",
       "  <tbody>\n",
       "    <tr>\n",
       "      <td>2017-06-01</td>\n",
       "      <td>1.0</td>\n",
       "      <td>0.0786635</td>\n",
       "      <td>0.0537748</td>\n",
       "      <td>0.0613923</td>\n",
       "      <td>0.0685572</td>\n",
       "      <td>0.0714232</td>\n",
       "      <td>0.0610152</td>\n",
       "      <td>0.0577721</td>\n",
       "      <td>0.0523418</td>\n",
       "      <td>0.0508334</td>\n",
       "      <td>0.0406516</td>\n",
       "      <td>0.0449506</td>\n",
       "    </tr>\n",
       "    <tr>\n",
       "      <td>2017-07-01</td>\n",
       "      <td>1.0</td>\n",
       "      <td>0.0560883</td>\n",
       "      <td>0.0512938</td>\n",
       "      <td>0.0561644</td>\n",
       "      <td>0.0582192</td>\n",
       "      <td>0.0481735</td>\n",
       "      <td>0.0453577</td>\n",
       "      <td>0.0457382</td>\n",
       "      <td>0.0388128</td>\n",
       "      <td>0.0286149</td>\n",
       "      <td>0.0274734</td>\n",
       "      <td></td>\n",
       "    </tr>\n",
       "    <tr>\n",
       "      <td>2017-08-01</td>\n",
       "      <td>1.0</td>\n",
       "      <td>0.076908</td>\n",
       "      <td>0.0628622</td>\n",
       "      <td>0.062764</td>\n",
       "      <td>0.0500933</td>\n",
       "      <td>0.0440035</td>\n",
       "      <td>0.0363422</td>\n",
       "      <td>0.0394853</td>\n",
       "      <td>0.0278951</td>\n",
       "      <td>0.0260289</td>\n",
       "      <td></td>\n",
       "      <td></td>\n",
       "    </tr>\n",
       "    <tr>\n",
       "      <td>2017-09-01</td>\n",
       "      <td>1.0</td>\n",
       "      <td>0.0854885</td>\n",
       "      <td>0.069205</td>\n",
       "      <td>0.0507064</td>\n",
       "      <td>0.0393918</td>\n",
       "      <td>0.0378352</td>\n",
       "      <td>0.0358597</td>\n",
       "      <td>0.0241858</td>\n",
       "      <td>0.0228089</td>\n",
       "      <td></td>\n",
       "      <td></td>\n",
       "      <td></td>\n",
       "    </tr>\n",
       "    <tr>\n",
       "      <td>2017-10-01</td>\n",
       "      <td>1.0</td>\n",
       "      <td>0.078608</td>\n",
       "      <td>0.0522385</td>\n",
       "      <td>0.0389575</td>\n",
       "      <td>0.0342611</td>\n",
       "      <td>0.0322208</td>\n",
       "      <td>0.0213651</td>\n",
       "      <td>0.0203642</td>\n",
       "      <td></td>\n",
       "      <td></td>\n",
       "      <td></td>\n",
       "      <td></td>\n",
       "    </tr>\n",
       "    <tr>\n",
       "      <td>2017-11-01</td>\n",
       "      <td>1.0</td>\n",
       "      <td>0.078281</td>\n",
       "      <td>0.0441133</td>\n",
       "      <td>0.0386817</td>\n",
       "      <td>0.0337272</td>\n",
       "      <td>0.0234146</td>\n",
       "      <td>0.0217998</td>\n",
       "      <td></td>\n",
       "      <td></td>\n",
       "      <td></td>\n",
       "      <td></td>\n",
       "      <td></td>\n",
       "    </tr>\n",
       "    <tr>\n",
       "      <td>2017-12-01</td>\n",
       "      <td>1.0</td>\n",
       "      <td>0.0558018</td>\n",
       "      <td>0.0379927</td>\n",
       "      <td>0.0311065</td>\n",
       "      <td>0.0202628</td>\n",
       "      <td>0.0190359</td>\n",
       "      <td></td>\n",
       "      <td></td>\n",
       "      <td></td>\n",
       "      <td></td>\n",
       "      <td></td>\n",
       "      <td></td>\n",
       "    </tr>\n",
       "    <tr>\n",
       "      <td>2018-01-01</td>\n",
       "      <td>1.0</td>\n",
       "      <td>0.0597153</td>\n",
       "      <td>0.0393388</td>\n",
       "      <td>0.0249735</td>\n",
       "      <td>0.020244</td>\n",
       "      <td></td>\n",
       "      <td></td>\n",
       "      <td></td>\n",
       "      <td></td>\n",
       "      <td></td>\n",
       "      <td></td>\n",
       "      <td></td>\n",
       "    </tr>\n",
       "    <tr>\n",
       "      <td>2018-02-01</td>\n",
       "      <td>1.0</td>\n",
       "      <td>0.0570798</td>\n",
       "      <td>0.0254539</td>\n",
       "      <td>0.0200928</td>\n",
       "      <td></td>\n",
       "      <td></td>\n",
       "      <td></td>\n",
       "      <td></td>\n",
       "      <td></td>\n",
       "      <td></td>\n",
       "      <td></td>\n",
       "      <td></td>\n",
       "    </tr>\n",
       "    <tr>\n",
       "      <td>2018-03-01</td>\n",
       "      <td>1.0</td>\n",
       "      <td>0.0418184</td>\n",
       "      <td>0.0270533</td>\n",
       "      <td></td>\n",
       "      <td></td>\n",
       "      <td></td>\n",
       "      <td></td>\n",
       "      <td></td>\n",
       "      <td></td>\n",
       "      <td></td>\n",
       "      <td></td>\n",
       "      <td></td>\n",
       "    </tr>\n",
       "    <tr>\n",
       "      <td>2018-04-01</td>\n",
       "      <td>1.0</td>\n",
       "      <td>0.0483799</td>\n",
       "      <td></td>\n",
       "      <td></td>\n",
       "      <td></td>\n",
       "      <td></td>\n",
       "      <td></td>\n",
       "      <td></td>\n",
       "      <td></td>\n",
       "      <td></td>\n",
       "      <td></td>\n",
       "      <td></td>\n",
       "    </tr>\n",
       "    <tr>\n",
       "      <td>2018-05-01</td>\n",
       "      <td>1.0</td>\n",
       "      <td></td>\n",
       "      <td></td>\n",
       "      <td></td>\n",
       "      <td></td>\n",
       "      <td></td>\n",
       "      <td></td>\n",
       "      <td></td>\n",
       "      <td></td>\n",
       "      <td></td>\n",
       "      <td></td>\n",
       "      <td></td>\n",
       "    </tr>\n",
       "  </tbody>\n",
       "</table>\n",
       "</div>"
      ],
      "text/plain": [
       "cohort_lifetime        0          1          2          3          4   \\\n",
       "first_activity_month                                                    \n",
       "2017-06-01            1.0  0.0786635  0.0537748  0.0613923  0.0685572   \n",
       "2017-07-01            1.0  0.0560883  0.0512938  0.0561644  0.0582192   \n",
       "2017-08-01            1.0   0.076908  0.0628622   0.062764  0.0500933   \n",
       "2017-09-01            1.0  0.0854885   0.069205  0.0507064  0.0393918   \n",
       "2017-10-01            1.0   0.078608  0.0522385  0.0389575  0.0342611   \n",
       "2017-11-01            1.0   0.078281  0.0441133  0.0386817  0.0337272   \n",
       "2017-12-01            1.0  0.0558018  0.0379927  0.0311065  0.0202628   \n",
       "2018-01-01            1.0  0.0597153  0.0393388  0.0249735   0.020244   \n",
       "2018-02-01            1.0  0.0570798  0.0254539  0.0200928              \n",
       "2018-03-01            1.0  0.0418184  0.0270533                         \n",
       "2018-04-01            1.0  0.0483799                                    \n",
       "2018-05-01            1.0                                               \n",
       "\n",
       "cohort_lifetime              5          6          7          8          9   \\\n",
       "first_activity_month                                                          \n",
       "2017-06-01            0.0714232  0.0610152  0.0577721  0.0523418  0.0508334   \n",
       "2017-07-01            0.0481735  0.0453577  0.0457382  0.0388128  0.0286149   \n",
       "2017-08-01            0.0440035  0.0363422  0.0394853  0.0278951  0.0260289   \n",
       "2017-09-01            0.0378352  0.0358597  0.0241858  0.0228089              \n",
       "2017-10-01            0.0322208  0.0213651  0.0203642                         \n",
       "2017-11-01            0.0234146  0.0217998                                    \n",
       "2017-12-01            0.0190359                                               \n",
       "2018-01-01                                                                    \n",
       "2018-02-01                                                                    \n",
       "2018-03-01                                                                    \n",
       "2018-04-01                                                                    \n",
       "2018-05-01                                                                    \n",
       "\n",
       "cohort_lifetime              10         11  \n",
       "first_activity_month                        \n",
       "2017-06-01            0.0406516  0.0449506  \n",
       "2017-07-01            0.0274734             \n",
       "2017-08-01                                  \n",
       "2017-09-01                                  \n",
       "2017-10-01                                  \n",
       "2017-11-01                                  \n",
       "2017-12-01                                  \n",
       "2018-01-01                                  \n",
       "2018-02-01                                  \n",
       "2018-03-01                                  \n",
       "2018-04-01                                  \n",
       "2018-05-01                                  "
      ]
     },
     "execution_count": 36,
     "metadata": {},
     "output_type": "execute_result"
    }
   ],
   "source": [
    "#Сводная таблица Retention Rate \n",
    "retention_pivot = cohorts.pivot_table(index='first_activity_month',\n",
    "                                      columns='cohort_lifetime',\n",
    "                                      values='retention',\n",
    "                                      aggfunc='sum')\n",
    "retention_pivot.fillna('')"
   ]
  },
  {
   "cell_type": "code",
   "execution_count": 37,
   "metadata": {},
   "outputs": [
    {
     "data": {
      "text/plain": [
       "<matplotlib.axes._subplots.AxesSubplot at 0x7f9634b09f50>"
      ]
     },
     "execution_count": 37,
     "metadata": {},
     "output_type": "execute_result"
    },
    {
     "data": {
      "image/png": "[encoded data removed]",
      "text/plain": [
       "<Figure size 1080x360 with 2 Axes>"
      ]
     },
     "metadata": {
      "needs_background": "light"
     },
     "output_type": "display_data"
    }
   ],
   "source": [
    "#Тепловая карта Retention Rate \n",
    "plt.figure(figsize=(15,5))\n",
    "plt.title('Cohorts: User Retention')\n",
    "\n",
    "sns.heatmap(retention_pivot, \n",
    "            annot=True, \n",
    "            fmt='.2%',\n",
    "            vmax=0.10, \n",
    "            linewidths=.5,\n",
    "            annot_kws={\"size\": 12})\n"
   ]
  },
  {
   "cell_type": "markdown",
   "metadata": {},
   "source": [
    "Тепловая карта показывает, что пользователи практически не возвращаются, лишь 5-7 % пользователей заходят на сайт через месяц после первой активности, возможно, это связано с тем;   \n",
    "После второго месяца возвращается примерно тоже количество людей и лишь после продолжительного времени процент вернувшихся пользователей падает до 2 - 2.75;\n",
    "Стоит заметить, что первая когорта показывает наилучший результат среди прочих;\n",
    "Как и было ранее отмечено, больше всего пользователей приходят в период с августа по ноябрь."
   ]
  },
  {
   "cell_type": "markdown",
   "metadata": {},
   "source": [
    "#### 2.2 Продажи<a name=\"Шаг2.2\"></a> "
   ]
  },
  {
   "cell_type": "markdown",
   "metadata": {},
   "source": [
    "##### 2.2.1 Когда люди начинают покупать?<a name=\"Шаг2.2.1\"></a> \n"
   ]
  },
  {
   "cell_type": "code",
   "execution_count": 38,
   "metadata": {},
   "outputs": [],
   "source": [
    "first_visit = visits.groupby('uid')['session_start'].min().to_frame()"
   ]
  },
  {
   "cell_type": "code",
   "execution_count": 39,
   "metadata": {},
   "outputs": [],
   "source": [
    "first_order = orders.groupby('uid')['date_of_purchase'].min().to_frame()\n",
    "first_order['date_of_purchase'] = pd.to_datetime(first_order['date_of_purchase'], format = '%Y-%m-%d')"
   ]
  },
  {
   "cell_type": "code",
   "execution_count": 40,
   "metadata": {},
   "outputs": [],
   "source": [
    "first_order = first_order.join(first_visit, on = 'uid')"
   ]
  },
  {
   "cell_type": "code",
   "execution_count": 41,
   "metadata": {},
   "outputs": [
    {
     "data": {
      "text/plain": [
       "count                      36523\n",
       "mean     16 days 21:40:10.550064\n",
       "std      47 days 01:44:46.481416\n",
       "min              0 days 00:00:00\n",
       "25%              0 days 00:04:00\n",
       "50%              0 days 00:16:00\n",
       "75%              2 days 00:17:00\n",
       "max            363 days 07:04:00\n",
       "Name: order_time, dtype: object"
      ]
     },
     "execution_count": 41,
     "metadata": {},
     "output_type": "execute_result"
    }
   ],
   "source": [
    "first_order['order_time'] = first_order['date_of_purchase'] - first_order['session_start']\n",
    "first_order['order_time'].describe()"
   ]
  },
  {
   "cell_type": "markdown",
   "metadata": {},
   "source": [
    "В среднем от визита до покупки проходит 16 дней 21 час 40 минут, минимум - 0, вероятно, ошибка в записи данных;  \n",
    "Медианное значение - 16 минут;  \n",
    "Дольше всех покупатель совершал покупку почти год - 363 дня.\n"
   ]
  },
  {
   "cell_type": "markdown",
   "metadata": {},
   "source": [
    "##### 2.2.2 Количество покупок за период<a name=\"Шаг2.2.2\"></a> \n"
   ]
  },
  {
   "cell_type": "code",
   "execution_count": 42,
   "metadata": {},
   "outputs": [],
   "source": [
    "#Количество заказов в день\n",
    "daily_orders = orders['date_date_of_purchase'].value_counts().describe().to_frame()\n",
    "#Количество заказов в неделю\n",
    "weekly_orders = orders['week_of_purchase'].value_counts().describe().to_frame()\n",
    "#Количество заказов в месяц\n",
    "monthly_orders = orders['month_of_purchase'].value_counts().describe().to_frame()"
   ]
  },
  {
   "cell_type": "code",
   "execution_count": 43,
   "metadata": {},
   "outputs": [
    {
     "data": {
      "text/html": [
       "<div>\n",
       "<style scoped>\n",
       "    .dataframe tbody tr th:only-of-type {\n",
       "        vertical-align: middle;\n",
       "    }\n",
       "\n",
       "    .dataframe tbody tr th {\n",
       "        vertical-align: top;\n",
       "    }\n",
       "\n",
       "    .dataframe thead th {\n",
       "        text-align: right;\n",
       "    }\n",
       "</style>\n",
       "<table border=\"1\" class=\"dataframe\">\n",
       "  <thead>\n",
       "    <tr style=\"text-align: right;\">\n",
       "      <th></th>\n",
       "      <th>month_of_purchase</th>\n",
       "      <th>week_of_purchase</th>\n",
       "      <th>date_date_of_purchase</th>\n",
       "    </tr>\n",
       "  </thead>\n",
       "  <tbody>\n",
       "    <tr>\n",
       "      <td>count</td>\n",
       "      <td>12.000000</td>\n",
       "      <td>52.000000</td>\n",
       "      <td>364.000000</td>\n",
       "    </tr>\n",
       "    <tr>\n",
       "      <td>mean</td>\n",
       "      <td>4201.250000</td>\n",
       "      <td>969.519231</td>\n",
       "      <td>138.502747</td>\n",
       "    </tr>\n",
       "    <tr>\n",
       "      <td>std</td>\n",
       "      <td>1511.861052</td>\n",
       "      <td>397.630457</td>\n",
       "      <td>76.858480</td>\n",
       "    </tr>\n",
       "    <tr>\n",
       "      <td>min</td>\n",
       "      <td>1807.000000</td>\n",
       "      <td>314.000000</td>\n",
       "      <td>1.000000</td>\n",
       "    </tr>\n",
       "    <tr>\n",
       "      <td>25%</td>\n",
       "      <td>3045.500000</td>\n",
       "      <td>658.500000</td>\n",
       "      <td>82.750000</td>\n",
       "    </tr>\n",
       "    <tr>\n",
       "      <td>50%</td>\n",
       "      <td>4533.500000</td>\n",
       "      <td>997.500000</td>\n",
       "      <td>136.000000</td>\n",
       "    </tr>\n",
       "    <tr>\n",
       "      <td>75%</td>\n",
       "      <td>5409.250000</td>\n",
       "      <td>1270.500000</td>\n",
       "      <td>177.000000</td>\n",
       "    </tr>\n",
       "    <tr>\n",
       "      <td>max</td>\n",
       "      <td>6218.000000</td>\n",
       "      <td>1894.000000</td>\n",
       "      <td>814.000000</td>\n",
       "    </tr>\n",
       "  </tbody>\n",
       "</table>\n",
       "</div>"
      ],
      "text/plain": [
       "       month_of_purchase  week_of_purchase  date_date_of_purchase\n",
       "count          12.000000         52.000000             364.000000\n",
       "mean         4201.250000        969.519231             138.502747\n",
       "std          1511.861052        397.630457              76.858480\n",
       "min          1807.000000        314.000000               1.000000\n",
       "25%          3045.500000        658.500000              82.750000\n",
       "50%          4533.500000        997.500000             136.000000\n",
       "75%          5409.250000       1270.500000             177.000000\n",
       "max          6218.000000       1894.000000             814.000000"
      ]
     },
     "execution_count": 43,
     "metadata": {},
     "output_type": "execute_result"
    }
   ],
   "source": [
    "#Объединение таблиц с количеством заказов в день/неделю/месяц\n",
    "orders_sum = monthly_orders.join(weekly_orders)\n",
    "orders_sum = orders_sum.join(daily_orders)\n",
    "\n",
    "orders_sum"
   ]
  },
  {
   "cell_type": "markdown",
   "metadata": {},
   "source": [
    "В среднем в день покупают 138 раз, в неделю 969 и 4201 в месяц;  \n",
    "Максимальное количество покупок в день 814, в неделю 1894 и 6218 в месяц."
   ]
  },
  {
   "cell_type": "markdown",
   "metadata": {},
   "source": [
    "#####  2.2.3  Средний чек за месяц <a name=\"Шаг2.2.3\"></a> \n"
   ]
  },
  {
   "cell_type": "code",
   "execution_count": 44,
   "metadata": {},
   "outputs": [
    {
     "data": {
      "text/plain": [
       "4.956901936821488"
      ]
     },
     "execution_count": 44,
     "metadata": {},
     "output_type": "execute_result"
    }
   ],
   "source": [
    "#Сумма покупок за месяц\n",
    "#Группирую прибыль помесячно\n",
    "monthly_revenue = orders.groupby('month_of_purchase').agg({'revenue':'sum'})\n",
    "\n",
    "#Перевод полученных данных в числовой тип\n",
    "monthly_revenue = pd.to_numeric(monthly_revenue['revenue'])\n",
    "\n",
    "#Группирую количество покупателей понедельно\n",
    "monthly_orders_grouped = orders.groupby('month_of_purchase').agg({'uid':'count'})\n",
    "\n",
    "#Перевод полученных данных в числовой тип\n",
    "monthly_orders_grouped = pd.to_numeric(monthly_orders_grouped['uid'])\n",
    "\n",
    "\n",
    "monthly_mean_revenue = (monthly_revenue / monthly_orders_grouped)\n",
    "monthly_mean_revenue.mean()"
   ]
  },
  {
   "cell_type": "markdown",
   "metadata": {},
   "source": [
    "Средний чек в месяц равен 4.95 тыс.рублей"
   ]
  },
  {
   "cell_type": "markdown",
   "metadata": {},
   "source": [
    "#####  2.2.4 Сколько денег приносят? (LTV)<a name=\"Шаг2.2.4\"></a> "
   ]
  },
  {
   "cell_type": "code",
   "execution_count": 45,
   "metadata": {},
   "outputs": [],
   "source": [
    "#Выделяю месяцы из дат в таблицах с заказами и расходами\n",
    "orders['order_month'] = orders['date_of_purchase'].astype('datetime64[M]')\n",
    "costs['month'] = costs['date'].astype('datetime64[M]')"
   ]
  },
  {
   "cell_type": "code",
   "execution_count": 46,
   "metadata": {},
   "outputs": [
    {
     "data": {
      "text/html": [
       "<div>\n",
       "<style scoped>\n",
       "    .dataframe tbody tr th:only-of-type {\n",
       "        vertical-align: middle;\n",
       "    }\n",
       "\n",
       "    .dataframe tbody tr th {\n",
       "        vertical-align: top;\n",
       "    }\n",
       "\n",
       "    .dataframe thead th {\n",
       "        text-align: right;\n",
       "    }\n",
       "</style>\n",
       "<table border=\"1\" class=\"dataframe\">\n",
       "  <thead>\n",
       "    <tr style=\"text-align: right;\">\n",
       "      <th></th>\n",
       "      <th>uid</th>\n",
       "      <th>first_order_month</th>\n",
       "    </tr>\n",
       "  </thead>\n",
       "  <tbody>\n",
       "    <tr>\n",
       "      <td>0</td>\n",
       "      <td>313578113262317</td>\n",
       "      <td>2018-01-01</td>\n",
       "    </tr>\n",
       "    <tr>\n",
       "      <td>1</td>\n",
       "      <td>1575281904278712</td>\n",
       "      <td>2017-06-01</td>\n",
       "    </tr>\n",
       "    <tr>\n",
       "      <td>2</td>\n",
       "      <td>2429014661409475</td>\n",
       "      <td>2017-10-01</td>\n",
       "    </tr>\n",
       "    <tr>\n",
       "      <td>3</td>\n",
       "      <td>2464366381792757</td>\n",
       "      <td>2018-01-01</td>\n",
       "    </tr>\n",
       "    <tr>\n",
       "      <td>4</td>\n",
       "      <td>2551852515556206</td>\n",
       "      <td>2017-11-01</td>\n",
       "    </tr>\n",
       "    <tr>\n",
       "      <td>...</td>\n",
       "      <td>...</td>\n",
       "      <td>...</td>\n",
       "    </tr>\n",
       "    <tr>\n",
       "      <td>36518</td>\n",
       "      <td>18445147675727495770</td>\n",
       "      <td>2017-11-01</td>\n",
       "    </tr>\n",
       "    <tr>\n",
       "      <td>36519</td>\n",
       "      <td>18445407535914413204</td>\n",
       "      <td>2017-09-01</td>\n",
       "    </tr>\n",
       "    <tr>\n",
       "      <td>36520</td>\n",
       "      <td>18445601152732270159</td>\n",
       "      <td>2018-03-01</td>\n",
       "    </tr>\n",
       "    <tr>\n",
       "      <td>36521</td>\n",
       "      <td>18446156210226471712</td>\n",
       "      <td>2018-02-01</td>\n",
       "    </tr>\n",
       "    <tr>\n",
       "      <td>36522</td>\n",
       "      <td>18446167067214817906</td>\n",
       "      <td>2017-10-01</td>\n",
       "    </tr>\n",
       "  </tbody>\n",
       "</table>\n",
       "<p>36523 rows × 2 columns</p>\n",
       "</div>"
      ],
      "text/plain": [
       "                        uid first_order_month\n",
       "0           313578113262317        2018-01-01\n",
       "1          1575281904278712        2017-06-01\n",
       "2          2429014661409475        2017-10-01\n",
       "3          2464366381792757        2018-01-01\n",
       "4          2551852515556206        2017-11-01\n",
       "...                     ...               ...\n",
       "36518  18445147675727495770        2017-11-01\n",
       "36519  18445407535914413204        2017-09-01\n",
       "36520  18445601152732270159        2018-03-01\n",
       "36521  18446156210226471712        2018-02-01\n",
       "36522  18446167067214817906        2017-10-01\n",
       "\n",
       "[36523 rows x 2 columns]"
      ]
     },
     "execution_count": 46,
     "metadata": {},
     "output_type": "execute_result"
    }
   ],
   "source": [
    "#Месяц первой покупки каждого покупателя\n",
    "first_orders = orders.groupby('uid').agg({'order_month': 'min'}).reset_index()\n",
    "first_orders.columns = ['uid', 'first_order_month']\n",
    "first_orders"
   ]
  },
  {
   "cell_type": "code",
   "execution_count": 47,
   "metadata": {},
   "outputs": [
    {
     "data": {
      "text/html": [
       "<div>\n",
       "<style scoped>\n",
       "    .dataframe tbody tr th:only-of-type {\n",
       "        vertical-align: middle;\n",
       "    }\n",
       "\n",
       "    .dataframe tbody tr th {\n",
       "        vertical-align: top;\n",
       "    }\n",
       "\n",
       "    .dataframe thead th {\n",
       "        text-align: right;\n",
       "    }\n",
       "</style>\n",
       "<table border=\"1\" class=\"dataframe\">\n",
       "  <thead>\n",
       "    <tr style=\"text-align: right;\">\n",
       "      <th></th>\n",
       "      <th>first_order_month</th>\n",
       "      <th>n_buyers</th>\n",
       "    </tr>\n",
       "  </thead>\n",
       "  <tbody>\n",
       "    <tr>\n",
       "      <td>0</td>\n",
       "      <td>2017-06-01</td>\n",
       "      <td>2023</td>\n",
       "    </tr>\n",
       "    <tr>\n",
       "      <td>1</td>\n",
       "      <td>2017-07-01</td>\n",
       "      <td>1923</td>\n",
       "    </tr>\n",
       "    <tr>\n",
       "      <td>2</td>\n",
       "      <td>2017-08-01</td>\n",
       "      <td>1370</td>\n",
       "    </tr>\n",
       "    <tr>\n",
       "      <td>3</td>\n",
       "      <td>2017-09-01</td>\n",
       "      <td>2581</td>\n",
       "    </tr>\n",
       "    <tr>\n",
       "      <td>4</td>\n",
       "      <td>2017-10-01</td>\n",
       "      <td>4340</td>\n",
       "    </tr>\n",
       "  </tbody>\n",
       "</table>\n",
       "</div>"
      ],
      "text/plain": [
       "  first_order_month  n_buyers\n",
       "0        2017-06-01      2023\n",
       "1        2017-07-01      1923\n",
       "2        2017-08-01      1370\n",
       "3        2017-09-01      2581\n",
       "4        2017-10-01      4340"
      ]
     },
     "execution_count": 47,
     "metadata": {},
     "output_type": "execute_result"
    }
   ],
   "source": [
    "#Количество новых покупателей (n_buyers) за каждый месяц\n",
    "cohort_sizes = first_orders.groupby('first_order_month').agg({'uid': 'nunique'}).reset_index()\n",
    "cohort_sizes.columns = ['first_order_month', 'n_buyers']\n",
    "cohort_sizes.head()"
   ]
  },
  {
   "cell_type": "code",
   "execution_count": 48,
   "metadata": {},
   "outputs": [
    {
     "data": {
      "text/html": [
       "<div>\n",
       "<style scoped>\n",
       "    .dataframe tbody tr th:only-of-type {\n",
       "        vertical-align: middle;\n",
       "    }\n",
       "\n",
       "    .dataframe tbody tr th {\n",
       "        vertical-align: top;\n",
       "    }\n",
       "\n",
       "    .dataframe thead th {\n",
       "        text-align: right;\n",
       "    }\n",
       "</style>\n",
       "<table border=\"1\" class=\"dataframe\">\n",
       "  <thead>\n",
       "    <tr style=\"text-align: right;\">\n",
       "      <th></th>\n",
       "      <th>date_of_purchase</th>\n",
       "      <th>revenue</th>\n",
       "      <th>uid</th>\n",
       "      <th>date_date_of_purchase</th>\n",
       "      <th>month_of_purchase</th>\n",
       "      <th>week_of_purchase</th>\n",
       "      <th>order_month</th>\n",
       "      <th>first_order_month</th>\n",
       "    </tr>\n",
       "  </thead>\n",
       "  <tbody>\n",
       "    <tr>\n",
       "      <td>0</td>\n",
       "      <td>2017-06-01 00:10:00</td>\n",
       "      <td>17.00</td>\n",
       "      <td>10329302124590727494</td>\n",
       "      <td>2017-06-01</td>\n",
       "      <td>6</td>\n",
       "      <td>22</td>\n",
       "      <td>2017-06-01</td>\n",
       "      <td>2017-06-01</td>\n",
       "    </tr>\n",
       "    <tr>\n",
       "      <td>1</td>\n",
       "      <td>2017-06-01 00:25:00</td>\n",
       "      <td>0.55</td>\n",
       "      <td>11627257723692907447</td>\n",
       "      <td>2017-06-01</td>\n",
       "      <td>6</td>\n",
       "      <td>22</td>\n",
       "      <td>2017-06-01</td>\n",
       "      <td>2017-06-01</td>\n",
       "    </tr>\n",
       "    <tr>\n",
       "      <td>2</td>\n",
       "      <td>2017-06-01 00:27:00</td>\n",
       "      <td>0.37</td>\n",
       "      <td>17903680561304213844</td>\n",
       "      <td>2017-06-01</td>\n",
       "      <td>6</td>\n",
       "      <td>22</td>\n",
       "      <td>2017-06-01</td>\n",
       "      <td>2017-06-01</td>\n",
       "    </tr>\n",
       "    <tr>\n",
       "      <td>3</td>\n",
       "      <td>2017-06-01 00:29:00</td>\n",
       "      <td>0.55</td>\n",
       "      <td>16109239769442553005</td>\n",
       "      <td>2017-06-01</td>\n",
       "      <td>6</td>\n",
       "      <td>22</td>\n",
       "      <td>2017-06-01</td>\n",
       "      <td>2017-06-01</td>\n",
       "    </tr>\n",
       "    <tr>\n",
       "      <td>4</td>\n",
       "      <td>2017-06-01 07:58:00</td>\n",
       "      <td>0.37</td>\n",
       "      <td>14200605875248379450</td>\n",
       "      <td>2017-06-01</td>\n",
       "      <td>6</td>\n",
       "      <td>22</td>\n",
       "      <td>2017-06-01</td>\n",
       "      <td>2017-06-01</td>\n",
       "    </tr>\n",
       "  </tbody>\n",
       "</table>\n",
       "</div>"
      ],
      "text/plain": [
       "     date_of_purchase  revenue                   uid date_date_of_purchase  \\\n",
       "0 2017-06-01 00:10:00    17.00  10329302124590727494            2017-06-01   \n",
       "1 2017-06-01 00:25:00     0.55  11627257723692907447            2017-06-01   \n",
       "2 2017-06-01 00:27:00     0.37  17903680561304213844            2017-06-01   \n",
       "3 2017-06-01 00:29:00     0.55  16109239769442553005            2017-06-01   \n",
       "4 2017-06-01 07:58:00     0.37  14200605875248379450            2017-06-01   \n",
       "\n",
       "   month_of_purchase  week_of_purchase order_month first_order_month  \n",
       "0                  6                22  2017-06-01        2017-06-01  \n",
       "1                  6                22  2017-06-01        2017-06-01  \n",
       "2                  6                22  2017-06-01        2017-06-01  \n",
       "3                  6                22  2017-06-01        2017-06-01  \n",
       "4                  6                22  2017-06-01        2017-06-01  "
      ]
     },
     "execution_count": 48,
     "metadata": {},
     "output_type": "execute_result"
    }
   ],
   "source": [
    "#Строю когорты, добавляю месяц первой покупки каждого покупателя в таблицу с заказами\n",
    "orders_new = pd.merge(orders,first_orders, on='uid')\n",
    "orders_new.head()"
   ]
  },
  {
   "cell_type": "code",
   "execution_count": 49,
   "metadata": {},
   "outputs": [
    {
     "data": {
      "text/html": [
       "<div>\n",
       "<style scoped>\n",
       "    .dataframe tbody tr th:only-of-type {\n",
       "        vertical-align: middle;\n",
       "    }\n",
       "\n",
       "    .dataframe tbody tr th {\n",
       "        vertical-align: top;\n",
       "    }\n",
       "\n",
       "    .dataframe thead th {\n",
       "        text-align: right;\n",
       "    }\n",
       "</style>\n",
       "<table border=\"1\" class=\"dataframe\">\n",
       "  <thead>\n",
       "    <tr style=\"text-align: right;\">\n",
       "      <th></th>\n",
       "      <th>first_order_month</th>\n",
       "      <th>order_month</th>\n",
       "      <th>revenue</th>\n",
       "    </tr>\n",
       "  </thead>\n",
       "  <tbody>\n",
       "    <tr>\n",
       "      <td>0</td>\n",
       "      <td>2017-06-01</td>\n",
       "      <td>2017-06-01</td>\n",
       "      <td>9557.49</td>\n",
       "    </tr>\n",
       "    <tr>\n",
       "      <td>1</td>\n",
       "      <td>2017-06-01</td>\n",
       "      <td>2017-07-01</td>\n",
       "      <td>981.82</td>\n",
       "    </tr>\n",
       "    <tr>\n",
       "      <td>2</td>\n",
       "      <td>2017-06-01</td>\n",
       "      <td>2017-08-01</td>\n",
       "      <td>885.34</td>\n",
       "    </tr>\n",
       "    <tr>\n",
       "      <td>3</td>\n",
       "      <td>2017-06-01</td>\n",
       "      <td>2017-09-01</td>\n",
       "      <td>1931.30</td>\n",
       "    </tr>\n",
       "    <tr>\n",
       "      <td>4</td>\n",
       "      <td>2017-06-01</td>\n",
       "      <td>2017-10-01</td>\n",
       "      <td>2068.58</td>\n",
       "    </tr>\n",
       "  </tbody>\n",
       "</table>\n",
       "</div>"
      ],
      "text/plain": [
       "  first_order_month order_month  revenue\n",
       "0        2017-06-01  2017-06-01  9557.49\n",
       "1        2017-06-01  2017-07-01   981.82\n",
       "2        2017-06-01  2017-08-01   885.34\n",
       "3        2017-06-01  2017-09-01  1931.30\n",
       "4        2017-06-01  2017-10-01  2068.58"
      ]
     },
     "execution_count": 49,
     "metadata": {},
     "output_type": "execute_result"
    }
   ],
   "source": [
    "#Группирую таблицу заказов по месяцу первой покупки и месяцу каждого заказа и складываю выручку\n",
    "cohorts = orders_new.groupby(['first_order_month','order_month']).agg({'revenue': 'sum'}).reset_index()\n",
    "cohorts.head()"
   ]
  },
  {
   "cell_type": "code",
   "execution_count": 50,
   "metadata": {},
   "outputs": [
    {
     "data": {
      "text/html": [
       "<div>\n",
       "<style scoped>\n",
       "    .dataframe tbody tr th:only-of-type {\n",
       "        vertical-align: middle;\n",
       "    }\n",
       "\n",
       "    .dataframe tbody tr th {\n",
       "        vertical-align: top;\n",
       "    }\n",
       "\n",
       "    .dataframe thead th {\n",
       "        text-align: right;\n",
       "    }\n",
       "</style>\n",
       "<table border=\"1\" class=\"dataframe\">\n",
       "  <thead>\n",
       "    <tr style=\"text-align: right;\">\n",
       "      <th></th>\n",
       "      <th>first_order_month</th>\n",
       "      <th>n_buyers</th>\n",
       "      <th>order_month</th>\n",
       "      <th>revenue</th>\n",
       "    </tr>\n",
       "  </thead>\n",
       "  <tbody>\n",
       "    <tr>\n",
       "      <td>0</td>\n",
       "      <td>2017-06-01</td>\n",
       "      <td>2023</td>\n",
       "      <td>2017-06-01</td>\n",
       "      <td>9557.49</td>\n",
       "    </tr>\n",
       "    <tr>\n",
       "      <td>1</td>\n",
       "      <td>2017-06-01</td>\n",
       "      <td>2023</td>\n",
       "      <td>2017-07-01</td>\n",
       "      <td>981.82</td>\n",
       "    </tr>\n",
       "    <tr>\n",
       "      <td>2</td>\n",
       "      <td>2017-06-01</td>\n",
       "      <td>2023</td>\n",
       "      <td>2017-08-01</td>\n",
       "      <td>885.34</td>\n",
       "    </tr>\n",
       "    <tr>\n",
       "      <td>3</td>\n",
       "      <td>2017-06-01</td>\n",
       "      <td>2023</td>\n",
       "      <td>2017-09-01</td>\n",
       "      <td>1931.30</td>\n",
       "    </tr>\n",
       "    <tr>\n",
       "      <td>4</td>\n",
       "      <td>2017-06-01</td>\n",
       "      <td>2023</td>\n",
       "      <td>2017-10-01</td>\n",
       "      <td>2068.58</td>\n",
       "    </tr>\n",
       "  </tbody>\n",
       "</table>\n",
       "</div>"
      ],
      "text/plain": [
       "  first_order_month  n_buyers order_month  revenue\n",
       "0        2017-06-01      2023  2017-06-01  9557.49\n",
       "1        2017-06-01      2023  2017-07-01   981.82\n",
       "2        2017-06-01      2023  2017-08-01   885.34\n",
       "3        2017-06-01      2023  2017-09-01  1931.30\n",
       "4        2017-06-01      2023  2017-10-01  2068.58"
      ]
     },
     "execution_count": 50,
     "metadata": {},
     "output_type": "execute_result"
    }
   ],
   "source": [
    "#Добавляю в таблицу данные по количеству людей, совершивших покупку в первый раз в каждый месяц\n",
    "report = pd.merge(cohort_sizes, cohorts, on='first_order_month')\n",
    "report.head()"
   ]
  },
  {
   "cell_type": "code",
   "execution_count": 51,
   "metadata": {},
   "outputs": [
    {
     "data": {
      "text/html": [
       "<div>\n",
       "<style scoped>\n",
       "    .dataframe tbody tr th:only-of-type {\n",
       "        vertical-align: middle;\n",
       "    }\n",
       "\n",
       "    .dataframe tbody tr th {\n",
       "        vertical-align: top;\n",
       "    }\n",
       "\n",
       "    .dataframe thead th {\n",
       "        text-align: right;\n",
       "    }\n",
       "</style>\n",
       "<table border=\"1\" class=\"dataframe\">\n",
       "  <thead>\n",
       "    <tr style=\"text-align: right;\">\n",
       "      <th></th>\n",
       "      <th>first_order_month</th>\n",
       "      <th>n_buyers</th>\n",
       "      <th>order_month</th>\n",
       "      <th>revenue</th>\n",
       "      <th>age</th>\n",
       "    </tr>\n",
       "  </thead>\n",
       "  <tbody>\n",
       "    <tr>\n",
       "      <td>0</td>\n",
       "      <td>2017-06-01</td>\n",
       "      <td>2023</td>\n",
       "      <td>2017-06-01</td>\n",
       "      <td>9557.49</td>\n",
       "      <td>0</td>\n",
       "    </tr>\n",
       "    <tr>\n",
       "      <td>1</td>\n",
       "      <td>2017-06-01</td>\n",
       "      <td>2023</td>\n",
       "      <td>2017-07-01</td>\n",
       "      <td>981.82</td>\n",
       "      <td>1</td>\n",
       "    </tr>\n",
       "    <tr>\n",
       "      <td>2</td>\n",
       "      <td>2017-06-01</td>\n",
       "      <td>2023</td>\n",
       "      <td>2017-08-01</td>\n",
       "      <td>885.34</td>\n",
       "      <td>2</td>\n",
       "    </tr>\n",
       "    <tr>\n",
       "      <td>3</td>\n",
       "      <td>2017-06-01</td>\n",
       "      <td>2023</td>\n",
       "      <td>2017-09-01</td>\n",
       "      <td>1931.30</td>\n",
       "      <td>3</td>\n",
       "    </tr>\n",
       "    <tr>\n",
       "      <td>4</td>\n",
       "      <td>2017-06-01</td>\n",
       "      <td>2023</td>\n",
       "      <td>2017-10-01</td>\n",
       "      <td>2068.58</td>\n",
       "      <td>4</td>\n",
       "    </tr>\n",
       "  </tbody>\n",
       "</table>\n",
       "</div>"
      ],
      "text/plain": [
       "  first_order_month  n_buyers order_month  revenue  age\n",
       "0        2017-06-01      2023  2017-06-01  9557.49    0\n",
       "1        2017-06-01      2023  2017-07-01   981.82    1\n",
       "2        2017-06-01      2023  2017-08-01   885.34    2\n",
       "3        2017-06-01      2023  2017-09-01  1931.30    3\n",
       "4        2017-06-01      2023  2017-10-01  2068.58    4"
      ]
     },
     "execution_count": 51,
     "metadata": {},
     "output_type": "execute_result"
    }
   ],
   "source": [
    "#Нахожу возраст когорт для более удобного подсчета LVT\n",
    "report['age'] = (report['order_month'] - report['first_order_month']) / np.timedelta64(1, 'M')\n",
    "report['age'] = report['age'].round().astype('int')\n",
    "report.head()"
   ]
  },
  {
   "cell_type": "code",
   "execution_count": 241,
   "metadata": {},
   "outputs": [
    {
     "data": {
      "text/html": [
       "<div>\n",
       "<style scoped>\n",
       "    .dataframe tbody tr th:only-of-type {\n",
       "        vertical-align: middle;\n",
       "    }\n",
       "\n",
       "    .dataframe tbody tr th {\n",
       "        vertical-align: top;\n",
       "    }\n",
       "\n",
       "    .dataframe thead th {\n",
       "        text-align: right;\n",
       "    }\n",
       "</style>\n",
       "<table border=\"1\" class=\"dataframe\">\n",
       "  <thead>\n",
       "    <tr style=\"text-align: right;\">\n",
       "      <th>age</th>\n",
       "      <th>0</th>\n",
       "      <th>1</th>\n",
       "      <th>2</th>\n",
       "      <th>3</th>\n",
       "      <th>4</th>\n",
       "      <th>5</th>\n",
       "      <th>6</th>\n",
       "      <th>7</th>\n",
       "      <th>8</th>\n",
       "      <th>9</th>\n",
       "      <th>10</th>\n",
       "      <th>11</th>\n",
       "    </tr>\n",
       "    <tr>\n",
       "      <th>first_order_month</th>\n",
       "      <th></th>\n",
       "      <th></th>\n",
       "      <th></th>\n",
       "      <th></th>\n",
       "      <th></th>\n",
       "      <th></th>\n",
       "      <th></th>\n",
       "      <th></th>\n",
       "      <th></th>\n",
       "      <th></th>\n",
       "      <th></th>\n",
       "      <th></th>\n",
       "    </tr>\n",
       "  </thead>\n",
       "  <tbody>\n",
       "    <tr>\n",
       "      <td>2017-06-01</td>\n",
       "      <td>4.724</td>\n",
       "      <td>5.209</td>\n",
       "      <td>5.647</td>\n",
       "      <td>6.602</td>\n",
       "      <td>7.625</td>\n",
       "      <td>8.361</td>\n",
       "      <td>9.311</td>\n",
       "      <td>9.893</td>\n",
       "      <td>10.446</td>\n",
       "      <td>11.052</td>\n",
       "      <td>11.623</td>\n",
       "      <td>11.88</td>\n",
       "    </tr>\n",
       "    <tr>\n",
       "      <td>2017-07-01</td>\n",
       "      <td>6.010</td>\n",
       "      <td>6.345</td>\n",
       "      <td>6.969</td>\n",
       "      <td>7.328</td>\n",
       "      <td>7.505</td>\n",
       "      <td>7.661</td>\n",
       "      <td>7.781</td>\n",
       "      <td>7.923</td>\n",
       "      <td>8.084</td>\n",
       "      <td>8.231</td>\n",
       "      <td>8.387</td>\n",
       "      <td></td>\n",
       "    </tr>\n",
       "    <tr>\n",
       "      <td>2017-08-01</td>\n",
       "      <td>5.277</td>\n",
       "      <td>5.749</td>\n",
       "      <td>6.207</td>\n",
       "      <td>6.598</td>\n",
       "      <td>7.092</td>\n",
       "      <td>7.376</td>\n",
       "      <td>7.587</td>\n",
       "      <td>7.992</td>\n",
       "      <td>8.284</td>\n",
       "      <td>8.472</td>\n",
       "      <td></td>\n",
       "      <td></td>\n",
       "    </tr>\n",
       "    <tr>\n",
       "      <td>2017-09-01</td>\n",
       "      <td>5.645</td>\n",
       "      <td>6.763</td>\n",
       "      <td>7.284</td>\n",
       "      <td>11.26</td>\n",
       "      <td>11.661</td>\n",
       "      <td>12.308</td>\n",
       "      <td>13.01</td>\n",
       "      <td>13.253</td>\n",
       "      <td>13.437</td>\n",
       "      <td></td>\n",
       "      <td></td>\n",
       "      <td></td>\n",
       "    </tr>\n",
       "    <tr>\n",
       "      <td>2017-10-01</td>\n",
       "      <td>5.004</td>\n",
       "      <td>5.54</td>\n",
       "      <td>5.731</td>\n",
       "      <td>5.888</td>\n",
       "      <td>6.04</td>\n",
       "      <td>6.16</td>\n",
       "      <td>6.245</td>\n",
       "      <td>6.36</td>\n",
       "      <td></td>\n",
       "      <td></td>\n",
       "      <td></td>\n",
       "      <td></td>\n",
       "    </tr>\n",
       "    <tr>\n",
       "      <td>2017-11-01</td>\n",
       "      <td>5.155</td>\n",
       "      <td>5.554</td>\n",
       "      <td>5.754</td>\n",
       "      <td>6.079</td>\n",
       "      <td>6.227</td>\n",
       "      <td>6.281</td>\n",
       "      <td>6.396</td>\n",
       "      <td></td>\n",
       "      <td></td>\n",
       "      <td></td>\n",
       "      <td></td>\n",
       "      <td></td>\n",
       "    </tr>\n",
       "    <tr>\n",
       "      <td>2017-12-01</td>\n",
       "      <td>4.738</td>\n",
       "      <td>4.998</td>\n",
       "      <td>5.923</td>\n",
       "      <td>6.988</td>\n",
       "      <td>7.301</td>\n",
       "      <td>7.639</td>\n",
       "      <td></td>\n",
       "      <td></td>\n",
       "      <td></td>\n",
       "      <td></td>\n",
       "      <td></td>\n",
       "      <td></td>\n",
       "    </tr>\n",
       "    <tr>\n",
       "      <td>2018-01-01</td>\n",
       "      <td>4.136</td>\n",
       "      <td>4.431</td>\n",
       "      <td>4.735</td>\n",
       "      <td>4.878</td>\n",
       "      <td>4.941</td>\n",
       "      <td></td>\n",
       "      <td></td>\n",
       "      <td></td>\n",
       "      <td></td>\n",
       "      <td></td>\n",
       "      <td></td>\n",
       "      <td></td>\n",
       "    </tr>\n",
       "    <tr>\n",
       "      <td>2018-02-01</td>\n",
       "      <td>4.157</td>\n",
       "      <td>4.435</td>\n",
       "      <td>4.514</td>\n",
       "      <td>4.588</td>\n",
       "      <td></td>\n",
       "      <td></td>\n",
       "      <td></td>\n",
       "      <td></td>\n",
       "      <td></td>\n",
       "      <td></td>\n",
       "      <td></td>\n",
       "      <td></td>\n",
       "    </tr>\n",
       "    <tr>\n",
       "      <td>2018-03-01</td>\n",
       "      <td>4.839</td>\n",
       "      <td>5.14</td>\n",
       "      <td>5.456</td>\n",
       "      <td></td>\n",
       "      <td></td>\n",
       "      <td></td>\n",
       "      <td></td>\n",
       "      <td></td>\n",
       "      <td></td>\n",
       "      <td></td>\n",
       "      <td></td>\n",
       "      <td></td>\n",
       "    </tr>\n",
       "    <tr>\n",
       "      <td>2018-04-01</td>\n",
       "      <td>4.658</td>\n",
       "      <td>5.19</td>\n",
       "      <td></td>\n",
       "      <td></td>\n",
       "      <td></td>\n",
       "      <td></td>\n",
       "      <td></td>\n",
       "      <td></td>\n",
       "      <td></td>\n",
       "      <td></td>\n",
       "      <td></td>\n",
       "      <td></td>\n",
       "    </tr>\n",
       "    <tr>\n",
       "      <td>2018-05-01</td>\n",
       "      <td>4.661</td>\n",
       "      <td></td>\n",
       "      <td></td>\n",
       "      <td></td>\n",
       "      <td></td>\n",
       "      <td></td>\n",
       "      <td></td>\n",
       "      <td></td>\n",
       "      <td></td>\n",
       "      <td></td>\n",
       "      <td></td>\n",
       "      <td></td>\n",
       "    </tr>\n",
       "  </tbody>\n",
       "</table>\n",
       "</div>"
      ],
      "text/plain": [
       "age                   0      1      2      3       4       5      6       7   \\\n",
       "first_order_month                                                              \n",
       "2017-06-01         4.724  5.209  5.647  6.602   7.625   8.361  9.311   9.893   \n",
       "2017-07-01         6.010  6.345  6.969  7.328   7.505   7.661  7.781   7.923   \n",
       "2017-08-01         5.277  5.749  6.207  6.598   7.092   7.376  7.587   7.992   \n",
       "2017-09-01         5.645  6.763  7.284  11.26  11.661  12.308  13.01  13.253   \n",
       "2017-10-01         5.004   5.54  5.731  5.888    6.04    6.16  6.245    6.36   \n",
       "2017-11-01         5.155  5.554  5.754  6.079   6.227   6.281  6.396           \n",
       "2017-12-01         4.738  4.998  5.923  6.988   7.301   7.639                  \n",
       "2018-01-01         4.136  4.431  4.735  4.878   4.941                          \n",
       "2018-02-01         4.157  4.435  4.514  4.588                                  \n",
       "2018-03-01         4.839   5.14  5.456                                         \n",
       "2018-04-01         4.658   5.19                                                \n",
       "2018-05-01         4.661                                                       \n",
       "\n",
       "age                    8       9       10     11  \n",
       "first_order_month                                 \n",
       "2017-06-01         10.446  11.052  11.623  11.88  \n",
       "2017-07-01          8.084   8.231   8.387         \n",
       "2017-08-01          8.284   8.472                 \n",
       "2017-09-01         13.437                         \n",
       "2017-10-01                                        \n",
       "2017-11-01                                        \n",
       "2017-12-01                                        \n",
       "2018-01-01                                        \n",
       "2018-02-01                                        \n",
       "2018-03-01                                        \n",
       "2018-04-01                                        \n",
       "2018-05-01                                        "
      ]
     },
     "execution_count": 241,
     "metadata": {},
     "output_type": "execute_result"
    }
   ],
   "source": [
    "#LVT по каждой когорте и каждому месяцу \n",
    "report['ltv'] = report['revenue'] / report['n_buyers']\n",
    "\n",
    "#Вывод когорт в сводной таблице    \n",
    "ltv_pivot = report.pivot_table(\n",
    "        index='first_order_month', \n",
    "        columns='age', \n",
    "        values='ltv', \n",
    "        aggfunc='mean').round(3)\n",
    "ltv = ltv_pivot.cumsum(axis=1)\n",
    "ltv.fillna('')"
   ]
  },
  {
   "cell_type": "code",
   "execution_count": 242,
   "metadata": {},
   "outputs": [
    {
     "data": {
      "text/plain": [
       "<matplotlib.axes._subplots.AxesSubplot at 0x7f9628b35090>"
      ]
     },
     "execution_count": 242,
     "metadata": {},
     "output_type": "execute_result"
    },
    {
     "data": {
      "image/png": "[encoded data removed]",
      "text/plain": [
       "<Figure size 1080x360 with 2 Axes>"
      ]
     },
     "metadata": {
      "needs_background": "light"
     },
     "output_type": "display_data"
    }
   ],
   "source": [
    "#Тепловая карта LTV \n",
    "plt.figure(figsize=(15,5))\n",
    "plt.title('Cohorts: LTV')\n",
    "\n",
    "sns.heatmap(ltv, \n",
    "            annot=True, \n",
    "            fmt='.3',\n",
    "            vmax= 14, \n",
    "            vmin = 4,\n",
    "            linewidths=.5,\n",
    "            annot_kws={\"size\": 12})"
   ]
  },
  {
   "cell_type": "code",
   "execution_count": 223,
   "metadata": {},
   "outputs": [
    {
     "data": {
      "text/plain": [
       "11.88"
      ]
     },
     "execution_count": 223,
     "metadata": {},
     "output_type": "execute_result"
    }
   ],
   "source": [
    "#итоговый LTV первой когорты\n",
    "ltv_201706 = ltv_pivot.loc['2017-06-01'].sum()\n",
    "ltv_201706"
   ]
  },
  {
   "cell_type": "markdown",
   "metadata": {},
   "source": [
    "В среднем каждый покупатель из первой когорты принес по 11.88 тыс. рублей  выручки за 11 месяцев жизни;  \n",
    "По общей картине можно сказать, что средняя выручка от когорт варьируется по месяцам в большую и меньшую сторону. Независимо от того, что мало покупателей  возвращаются в последующие месяцы, выручка увеличивается.\n"
   ]
  },
  {
   "cell_type": "markdown",
   "metadata": {},
   "source": [
    "#### 2.3 Маркетинг<a name=\"Шаг2.3\"></a> "
   ]
  },
  {
   "cell_type": "markdown",
   "metadata": {},
   "source": [
    "##### 2.3.1 Расходы: всего / на каждый источник / по времени <a name=\"Шаг2.3.1\"></a> \n"
   ]
  },
  {
   "cell_type": "code",
   "execution_count": 55,
   "metadata": {},
   "outputs": [
    {
     "data": {
      "text/plain": [
       "329131.62"
      ]
     },
     "execution_count": 55,
     "metadata": {},
     "output_type": "execute_result"
    }
   ],
   "source": [
    "#Сумма потраченных средств на рекламу за весь период\n",
    "all_period = costs['costs'].sum()\n",
    "all_period"
   ]
  },
  {
   "cell_type": "markdown",
   "metadata": {},
   "source": [
    "За весь период на рекламу потратили 329131.62 тыс. рублей"
   ]
  },
  {
   "cell_type": "code",
   "execution_count": 56,
   "metadata": {},
   "outputs": [
    {
     "data": {
      "text/html": [
       "<div>\n",
       "<style scoped>\n",
       "    .dataframe tbody tr th:only-of-type {\n",
       "        vertical-align: middle;\n",
       "    }\n",
       "\n",
       "    .dataframe tbody tr th {\n",
       "        vertical-align: top;\n",
       "    }\n",
       "\n",
       "    .dataframe thead th {\n",
       "        text-align: right;\n",
       "    }\n",
       "</style>\n",
       "<table border=\"1\" class=\"dataframe\">\n",
       "  <thead>\n",
       "    <tr style=\"text-align: right;\">\n",
       "      <th></th>\n",
       "      <th>source_id</th>\n",
       "      <th>costs</th>\n",
       "    </tr>\n",
       "  </thead>\n",
       "  <tbody>\n",
       "    <tr>\n",
       "      <td>5</td>\n",
       "      <td>9</td>\n",
       "      <td>5517.49</td>\n",
       "    </tr>\n",
       "    <tr>\n",
       "      <td>6</td>\n",
       "      <td>10</td>\n",
       "      <td>5822.49</td>\n",
       "    </tr>\n",
       "    <tr>\n",
       "      <td>0</td>\n",
       "      <td>1</td>\n",
       "      <td>20833.27</td>\n",
       "    </tr>\n",
       "    <tr>\n",
       "      <td>1</td>\n",
       "      <td>2</td>\n",
       "      <td>42806.04</td>\n",
       "    </tr>\n",
       "    <tr>\n",
       "      <td>4</td>\n",
       "      <td>5</td>\n",
       "      <td>51757.10</td>\n",
       "    </tr>\n",
       "    <tr>\n",
       "      <td>3</td>\n",
       "      <td>4</td>\n",
       "      <td>61073.60</td>\n",
       "    </tr>\n",
       "    <tr>\n",
       "      <td>2</td>\n",
       "      <td>3</td>\n",
       "      <td>141321.63</td>\n",
       "    </tr>\n",
       "  </tbody>\n",
       "</table>\n",
       "</div>"
      ],
      "text/plain": [
       "   source_id      costs\n",
       "5          9    5517.49\n",
       "6         10    5822.49\n",
       "0          1   20833.27\n",
       "1          2   42806.04\n",
       "4          5   51757.10\n",
       "3          4   61073.60\n",
       "2          3  141321.63"
      ]
     },
     "execution_count": 56,
     "metadata": {},
     "output_type": "execute_result"
    }
   ],
   "source": [
    "#Сумма потраченных средств на рекламу по каждому источнику\n",
    "sours_costs = costs.groupby('source_id')['costs'].sum().reset_index()\n",
    "sours_costs.sort_values(by = 'costs')"
   ]
  },
  {
   "cell_type": "markdown",
   "metadata": {},
   "source": [
    "Больше всего уходит на рекламу в источнике 3 - 141321.63 тыс. а меньше всего на источник 9, было бы логично, если бы источник 3 приносил больше всего покупателей. Проверим данные."
   ]
  },
  {
   "cell_type": "code",
   "execution_count": 57,
   "metadata": {},
   "outputs": [
    {
     "data": {
      "text/plain": [
       "date_month\n",
       "8     14790.54\n",
       "6     18015.00\n",
       "7     18240.59\n",
       "5     22224.27\n",
       "4     22289.38\n",
       "9     24368.91\n",
       "3     30415.27\n",
       "2     32723.03\n",
       "1     33518.52\n",
       "10    36322.88\n",
       "11    37907.88\n",
       "12    38315.35\n",
       "Name: costs, dtype: float64"
      ]
     },
     "execution_count": 57,
     "metadata": {},
     "output_type": "execute_result"
    }
   ],
   "source": [
    "#Сумма потраченных средств на рекламу по месяцам\n",
    "time_costs = costs.groupby('date_month')['costs'].sum()\n",
    "time_costs.sort_values()"
   ]
  },
  {
   "cell_type": "markdown",
   "metadata": {},
   "source": [
    "Больше всего в рекламу вкладываются в зимние месяцы ~37907.88 в месяц, меньше всего в летние 14790.54 - 18015.00 в месяц, что варьируется с тем, что покупателей больше приходит зимой, чем летом."
   ]
  },
  {
   "cell_type": "markdown",
   "metadata": {},
   "source": [
    "##### 2.3.2 Стоимость привлечения одного покупателя из каждого источника<a name=\"Шаг2.3.2\"></a> \n"
   ]
  },
  {
   "cell_type": "code",
   "execution_count": 226,
   "metadata": {},
   "outputs": [
    {
     "data": {
      "text/html": [
       "<div>\n",
       "<style scoped>\n",
       "    .dataframe tbody tr th:only-of-type {\n",
       "        vertical-align: middle;\n",
       "    }\n",
       "\n",
       "    .dataframe tbody tr th {\n",
       "        vertical-align: top;\n",
       "    }\n",
       "\n",
       "    .dataframe thead th {\n",
       "        text-align: right;\n",
       "    }\n",
       "</style>\n",
       "<table border=\"1\" class=\"dataframe\">\n",
       "  <thead>\n",
       "    <tr style=\"text-align: right;\">\n",
       "      <th></th>\n",
       "      <th>price_for_client</th>\n",
       "    </tr>\n",
       "    <tr>\n",
       "      <th>index</th>\n",
       "      <th></th>\n",
       "    </tr>\n",
       "  </thead>\n",
       "  <tbody>\n",
       "    <tr>\n",
       "      <td>source 10</td>\n",
       "      <td>4.381</td>\n",
       "    </tr>\n",
       "    <tr>\n",
       "      <td>source 9</td>\n",
       "      <td>5.071</td>\n",
       "    </tr>\n",
       "    <tr>\n",
       "      <td>source 4</td>\n",
       "      <td>5.932</td>\n",
       "    </tr>\n",
       "    <tr>\n",
       "      <td>source 1</td>\n",
       "      <td>7.186</td>\n",
       "    </tr>\n",
       "    <tr>\n",
       "      <td>source 5</td>\n",
       "      <td>7.467</td>\n",
       "    </tr>\n",
       "    <tr>\n",
       "      <td>source 2</td>\n",
       "      <td>12.209</td>\n",
       "    </tr>\n",
       "    <tr>\n",
       "      <td>source 3</td>\n",
       "      <td>13.494</td>\n",
       "    </tr>\n",
       "  </tbody>\n",
       "</table>\n",
       "</div>"
      ],
      "text/plain": [
       "           price_for_client\n",
       "index                      \n",
       "source 10             4.381\n",
       "source 9              5.071\n",
       "source 4              5.932\n",
       "source 1              7.186\n",
       "source 5              7.467\n",
       "source 2             12.209\n",
       "source 3             13.494"
      ]
     },
     "execution_count": 226,
     "metadata": {},
     "output_type": "execute_result"
    }
   ],
   "source": [
    "#Нахожу стоимость привлечения покупателей из каждого источника\n",
    "\n",
    "rev_uid_costs_per_source['price_for_client'] = rev_uid_costs_per_source['costs']/rev_uid_costs_per_source['clients']\n",
    "\n",
    "#Округляю значения\n",
    "rev_uid_costs_per_source['price_for_client'] = rev_uid_costs_per_source['price_for_client'].round(3)\n",
    "\n",
    "#Сортирую и привожу к табличному видц\n",
    "rev_uid_costs_per_source['price_for_client'].sort_values().to_frame()"
   ]
  },
  {
   "cell_type": "markdown",
   "metadata": {},
   "source": [
    "Больше всего денег уходит на привлечение одного покупателя по рекламным источникам 2 и 3, по данным источникам в среднем покупатель обходится в 12.8 тыс. руб.  \n",
    "Самым бюджетным привлечение покупателей получается по источнику 10."
   ]
  },
  {
   "cell_type": "markdown",
   "metadata": {},
   "source": [
    "##### 2.3.3 Окупаемость расходов (ROI)<a name=\"Шаг2.3.3\"></a> "
   ]
  },
  {
   "cell_type": "code",
   "execution_count": 239,
   "metadata": {},
   "outputs": [
    {
     "name": "stdout",
     "output_type": "stream",
     "text": [
      "Окупаемость: -0.23417877625976585\n"
     ]
    }
   ],
   "source": [
    "#Расчет общего ROI \n",
    "ROI = (rev_uid_costs_per_source['revenue'].sum() - rev_uid_costs_per_source['costs'].sum()) / rev_uid_costs_per_source['costs'].sum()\n",
    "\n",
    "print('Окупаемость:',ROI)\n",
    "\n",
    "\n"
   ]
  },
  {
   "cell_type": "markdown",
   "metadata": {},
   "source": [
    "Затраты превышают выручку, расходы не окупились, бизнес в убытке.  "
   ]
  },
  {
   "cell_type": "code",
   "execution_count": 240,
   "metadata": {},
   "outputs": [
    {
     "data": {
      "text/html": [
       "<div>\n",
       "<style scoped>\n",
       "    .dataframe tbody tr th:only-of-type {\n",
       "        vertical-align: middle;\n",
       "    }\n",
       "\n",
       "    .dataframe tbody tr th {\n",
       "        vertical-align: top;\n",
       "    }\n",
       "\n",
       "    .dataframe thead th {\n",
       "        text-align: right;\n",
       "    }\n",
       "</style>\n",
       "<table border=\"1\" class=\"dataframe\">\n",
       "  <thead>\n",
       "    <tr style=\"text-align: right;\">\n",
       "      <th></th>\n",
       "      <th>costs</th>\n",
       "      <th>revenue</th>\n",
       "      <th>uid</th>\n",
       "      <th>clients</th>\n",
       "      <th>source_profit</th>\n",
       "      <th>price_for_client</th>\n",
       "      <th>roi</th>\n",
       "    </tr>\n",
       "    <tr>\n",
       "      <th>index</th>\n",
       "      <th></th>\n",
       "      <th></th>\n",
       "      <th></th>\n",
       "      <th></th>\n",
       "      <th></th>\n",
       "      <th></th>\n",
       "      <th></th>\n",
       "    </tr>\n",
       "  </thead>\n",
       "  <tbody>\n",
       "    <tr>\n",
       "      <td>source 3</td>\n",
       "      <td>141321.63</td>\n",
       "      <td>54511.24</td>\n",
       "      <td>74756</td>\n",
       "      <td>10473.0</td>\n",
       "      <td>-86810.39</td>\n",
       "      <td>13.494</td>\n",
       "      <td>-0.614275</td>\n",
       "    </tr>\n",
       "    <tr>\n",
       "      <td>source 10</td>\n",
       "      <td>5822.49</td>\n",
       "      <td>4450.33</td>\n",
       "      <td>8067</td>\n",
       "      <td>1329.0</td>\n",
       "      <td>-1372.16</td>\n",
       "      <td>4.381</td>\n",
       "      <td>-0.235665</td>\n",
       "    </tr>\n",
       "    <tr>\n",
       "      <td>source 4</td>\n",
       "      <td>61073.60</td>\n",
       "      <td>56696.83</td>\n",
       "      <td>83525</td>\n",
       "      <td>10296.0</td>\n",
       "      <td>-4376.77</td>\n",
       "      <td>5.932</td>\n",
       "      <td>-0.071664</td>\n",
       "    </tr>\n",
       "    <tr>\n",
       "      <td>source 5</td>\n",
       "      <td>51757.10</td>\n",
       "      <td>52624.02</td>\n",
       "      <td>56974</td>\n",
       "      <td>6931.0</td>\n",
       "      <td>866.92</td>\n",
       "      <td>7.467</td>\n",
       "      <td>0.016750</td>\n",
       "    </tr>\n",
       "    <tr>\n",
       "      <td>source 9</td>\n",
       "      <td>5517.49</td>\n",
       "      <td>5759.40</td>\n",
       "      <td>9264</td>\n",
       "      <td>1088.0</td>\n",
       "      <td>241.91</td>\n",
       "      <td>5.071</td>\n",
       "      <td>0.043844</td>\n",
       "    </tr>\n",
       "    <tr>\n",
       "      <td>source 2</td>\n",
       "      <td>42806.04</td>\n",
       "      <td>46923.61</td>\n",
       "      <td>26245</td>\n",
       "      <td>3506.0</td>\n",
       "      <td>4117.57</td>\n",
       "      <td>12.209</td>\n",
       "      <td>0.096191</td>\n",
       "    </tr>\n",
       "    <tr>\n",
       "      <td>source 1</td>\n",
       "      <td>20833.27</td>\n",
       "      <td>31090.55</td>\n",
       "      <td>18999</td>\n",
       "      <td>2899.0</td>\n",
       "      <td>10257.28</td>\n",
       "      <td>7.186</td>\n",
       "      <td>0.492351</td>\n",
       "    </tr>\n",
       "  </tbody>\n",
       "</table>\n",
       "</div>"
      ],
      "text/plain": [
       "               costs   revenue    uid  clients  source_profit  \\\n",
       "index                                                           \n",
       "source 3   141321.63  54511.24  74756  10473.0      -86810.39   \n",
       "source 10    5822.49   4450.33   8067   1329.0       -1372.16   \n",
       "source 4    61073.60  56696.83  83525  10296.0       -4376.77   \n",
       "source 5    51757.10  52624.02  56974   6931.0         866.92   \n",
       "source 9     5517.49   5759.40   9264   1088.0         241.91   \n",
       "source 2    42806.04  46923.61  26245   3506.0        4117.57   \n",
       "source 1    20833.27  31090.55  18999   2899.0       10257.28   \n",
       "\n",
       "           price_for_client       roi  \n",
       "index                                  \n",
       "source 3             13.494 -0.614275  \n",
       "source 10             4.381 -0.235665  \n",
       "source 4              5.932 -0.071664  \n",
       "source 5              7.467  0.016750  \n",
       "source 9              5.071  0.043844  \n",
       "source 2             12.209  0.096191  \n",
       "source 1              7.186  0.492351  "
      ]
     },
     "execution_count": 240,
     "metadata": {},
     "output_type": "execute_result"
    }
   ],
   "source": [
    "rev_uid_costs_per_source['roi'] = (rev_uid_costs_per_source['revenue'] - rev_uid_costs_per_source['costs']) / rev_uid_costs_per_source['costs']\n",
    "\n",
    "rev_uid_costs_per_source.sort_values(by = 'roi')\n",
    "\n"
   ]
  },
  {
   "cell_type": "markdown",
   "metadata": {},
   "source": [
    "В разрезе источников видно, что источники 3,4, 10 убыточные, возможно сотрудничество с ними стоит прекратить.  \n",
    "Больше всего окупился источник 1."
   ]
  },
  {
   "cell_type": "code",
   "execution_count": 64,
   "metadata": {},
   "outputs": [
    {
     "data": {
      "text/plain": [
       "desktop    713192\n",
       "touch       48615\n",
       "Name: device, dtype: int64"
      ]
     },
     "execution_count": 64,
     "metadata": {},
     "output_type": "execute_result"
    }
   ],
   "source": [
    "#Объединяю таблицы\n",
    "visits_orders = orders.merge(visits, on = 'uid')\n",
    "#Проверка возможных категорий устройств, используемых пользователями\n",
    "visits_orders['device'].value_counts()"
   ]
  },
  {
   "cell_type": "code",
   "execution_count": 65,
   "metadata": {},
   "outputs": [
    {
     "data": {
      "text/plain": [
       "18.590624534950496"
      ]
     },
     "execution_count": 65,
     "metadata": {},
     "output_type": "execute_result"
    }
   ],
   "source": [
    "#Окупаемость расходов по устройствам (desktop)\n",
    "desctop_orders_filtered = visits_orders.query('device == \"desktop\"')\n",
    "\n",
    "\n",
    "desktop_ROI = (desctop_orders_filtered['revenue'].sum() - costs['costs'].sum()) / costs['costs'].sum()\n",
    "desktop_ROI"
   ]
  },
  {
   "cell_type": "markdown",
   "metadata": {},
   "source": [
    "Высокий показатель окупаемости относительно общих показателей"
   ]
  },
  {
   "cell_type": "code",
   "execution_count": 66,
   "metadata": {},
   "outputs": [
    {
     "data": {
      "text/plain": [
       "0.5626373424710759"
      ]
     },
     "execution_count": 66,
     "metadata": {},
     "output_type": "execute_result"
    }
   ],
   "source": [
    "#Окупаемость расходов по устройствам (touch)\n",
    "touch_orders_filtered = visits_orders.query('device == \"touch\"')\n",
    "\n",
    "touch_ROI = (touch_orders_filtered['revenue'].sum() - costs['costs'].sum()) / costs['costs'].sum()\n",
    "touch_ROI"
   ]
  },
  {
   "cell_type": "markdown",
   "metadata": {},
   "source": [
    "Окупаемость присутствует, но гараздо меньше, в сравнении с desktop. Похоже с компьютеров люди все же чаще покупают билеты."
   ]
  },
  {
   "cell_type": "code",
   "execution_count": 67,
   "metadata": {},
   "outputs": [
    {
     "data": {
      "text/html": [
       "<div>\n",
       "<style scoped>\n",
       "    .dataframe tbody tr th:only-of-type {\n",
       "        vertical-align: middle;\n",
       "    }\n",
       "\n",
       "    .dataframe tbody tr th {\n",
       "        vertical-align: top;\n",
       "    }\n",
       "\n",
       "    .dataframe thead th {\n",
       "        text-align: right;\n",
       "    }\n",
       "</style>\n",
       "<table border=\"1\" class=\"dataframe\">\n",
       "  <thead>\n",
       "    <tr style=\"text-align: right;\">\n",
       "      <th></th>\n",
       "      <th>revenue</th>\n",
       "      <th>uid</th>\n",
       "      <th>clients</th>\n",
       "    </tr>\n",
       "    <tr>\n",
       "      <th>device</th>\n",
       "      <th></th>\n",
       "      <th></th>\n",
       "      <th></th>\n",
       "    </tr>\n",
       "  </thead>\n",
       "  <tbody>\n",
       "    <tr>\n",
       "      <td>desktop</td>\n",
       "      <td>211329.77</td>\n",
       "      <td>164523</td>\n",
       "      <td>29211</td>\n",
       "    </tr>\n",
       "    <tr>\n",
       "      <td>touch</td>\n",
       "      <td>40727.43</td>\n",
       "      <td>71345</td>\n",
       "      <td>7312</td>\n",
       "    </tr>\n",
       "  </tbody>\n",
       "</table>\n",
       "</div>"
      ],
      "text/plain": [
       "           revenue     uid  clients\n",
       "device                             \n",
       "desktop  211329.77  164523    29211\n",
       "touch     40727.43   71345     7312"
      ]
     },
     "execution_count": 67,
     "metadata": {},
     "output_type": "execute_result"
    }
   ],
   "source": [
    "#Построение таблицы выручки по устройствам\n",
    "\n",
    "#Сортировка покупателей по устройствам\n",
    "visits_sorted = visits.sort_values(by='session_start')\n",
    "\n",
    "\n",
    "# Сортировка выручки по устройствам\n",
    "first_device_per_user = visits_sorted.groupby('uid').agg({'device': 'first'})\n",
    "client_per_device = orders.merge(first_device_per_user, on='uid')\n",
    "client_per_device = client_per_device.groupby('device').agg({'uid': 'nunique'})\n",
    "\n",
    "# Поиск уникальных пользователей по устройствам\n",
    "uid_per_device = visits_sorted.groupby('device').agg({'uid': 'nunique'})\n",
    "\n",
    "#Присоединение таблицы и группировка по доходам\n",
    "rev_per_device = orders.merge(first_device_per_user, on='uid')\n",
    "rev_per_device = rev_per_device.groupby('device').agg({'revenue': 'sum'})\n",
    "\n",
    "#Объединяю таблицы\n",
    "rev_uid_per_device = pd.concat([rev_per_device, \n",
    "                                      uid_per_device, client_per_device],axis=1).fillna(0)\n",
    "\n",
    "rev_uid_per_device = rev_uid_per_device\n",
    "\n",
    "rev_uid_per_device.columns = ['revenue', 'uid', 'clients']\n",
    "\n",
    "rev_uid_per_device"
   ]
  },
  {
   "cell_type": "markdown",
   "metadata": {},
   "source": [
    "По полученным данным видно, что через компьютеры на сайте покупают чаще, чем через мобильные устройства, больше клиентов и больше прибыль (211329.77 принесли компьютеры и 40727.43 мобильные устройства)."
   ]
  },
  {
   "cell_type": "code",
   "execution_count": 68,
   "metadata": {},
   "outputs": [
    {
     "data": {
      "text/html": [
       "<div>\n",
       "<style scoped>\n",
       "    .dataframe tbody tr th:only-of-type {\n",
       "        vertical-align: middle;\n",
       "    }\n",
       "\n",
       "    .dataframe tbody tr th {\n",
       "        vertical-align: top;\n",
       "    }\n",
       "\n",
       "    .dataframe thead th {\n",
       "        text-align: right;\n",
       "    }\n",
       "</style>\n",
       "<table border=\"1\" class=\"dataframe\">\n",
       "  <thead>\n",
       "    <tr style=\"text-align: right;\">\n",
       "      <th></th>\n",
       "      <th>costs</th>\n",
       "      <th>revenue</th>\n",
       "      <th>uid</th>\n",
       "      <th>clients</th>\n",
       "    </tr>\n",
       "    <tr>\n",
       "      <th>index</th>\n",
       "      <th></th>\n",
       "      <th></th>\n",
       "      <th></th>\n",
       "      <th></th>\n",
       "    </tr>\n",
       "  </thead>\n",
       "  <tbody>\n",
       "    <tr>\n",
       "      <td>source 1</td>\n",
       "      <td>20833.27</td>\n",
       "      <td>31090.55</td>\n",
       "      <td>18999</td>\n",
       "      <td>2899.0</td>\n",
       "    </tr>\n",
       "    <tr>\n",
       "      <td>source 2</td>\n",
       "      <td>42806.04</td>\n",
       "      <td>46923.61</td>\n",
       "      <td>26245</td>\n",
       "      <td>3506.0</td>\n",
       "    </tr>\n",
       "    <tr>\n",
       "      <td>source 3</td>\n",
       "      <td>141321.63</td>\n",
       "      <td>54511.24</td>\n",
       "      <td>74756</td>\n",
       "      <td>10473.0</td>\n",
       "    </tr>\n",
       "    <tr>\n",
       "      <td>source 4</td>\n",
       "      <td>61073.60</td>\n",
       "      <td>56696.83</td>\n",
       "      <td>83525</td>\n",
       "      <td>10296.0</td>\n",
       "    </tr>\n",
       "    <tr>\n",
       "      <td>source 5</td>\n",
       "      <td>51757.10</td>\n",
       "      <td>52624.02</td>\n",
       "      <td>56974</td>\n",
       "      <td>6931.0</td>\n",
       "    </tr>\n",
       "    <tr>\n",
       "      <td>source 9</td>\n",
       "      <td>5517.49</td>\n",
       "      <td>5759.40</td>\n",
       "      <td>9264</td>\n",
       "      <td>1088.0</td>\n",
       "    </tr>\n",
       "    <tr>\n",
       "      <td>source 10</td>\n",
       "      <td>5822.49</td>\n",
       "      <td>4450.33</td>\n",
       "      <td>8067</td>\n",
       "      <td>1329.0</td>\n",
       "    </tr>\n",
       "  </tbody>\n",
       "</table>\n",
       "</div>"
      ],
      "text/plain": [
       "               costs   revenue    uid  clients\n",
       "index                                         \n",
       "source 1    20833.27  31090.55  18999   2899.0\n",
       "source 2    42806.04  46923.61  26245   3506.0\n",
       "source 3   141321.63  54511.24  74756  10473.0\n",
       "source 4    61073.60  56696.83  83525  10296.0\n",
       "source 5    51757.10  52624.02  56974   6931.0\n",
       "source 9     5517.49   5759.40   9264   1088.0\n",
       "source 10    5822.49   4450.33   8067   1329.0"
      ]
     },
     "execution_count": 68,
     "metadata": {},
     "output_type": "execute_result"
    }
   ],
   "source": [
    "#Построение таблицы выручки и затрат по источникам\n",
    "\n",
    "#Сортировка выручки по источникам\n",
    "\n",
    "costs_per_source = costs.groupby('source_id').agg({'costs': 'sum'})\n",
    "\n",
    "# выручка по источникам\n",
    "first_source_per_user = visits_sorted.groupby('uid').agg({'source id': 'first'})\n",
    "client_per_source = orders.merge(first_source_per_user, on='uid')\n",
    "client_per_source = client_per_source.groupby('source id').agg({'uid': 'nunique'})\n",
    "\n",
    "# Поиск уникальных пользователей по источникам\n",
    "uid_per_source = visits_sorted.groupby('source id').agg({'uid': 'nunique'})\n",
    "\n",
    "#Присоединение таблицы и группировка по доходам\n",
    "rev_per_source = orders.merge(first_source_per_user, on='uid')\n",
    "rev_per_source = rev_per_source.groupby('source id').agg({'revenue': 'sum'})\n",
    "\n",
    "#Объединяю таблицы\n",
    "rev_uid_costs_per_source = pd.concat([costs_per_source, rev_per_source, \n",
    "                                      uid_per_source, client_per_source],axis=1).fillna(0)\n",
    "\n",
    "#Ставлю на места индексов источники\n",
    "rev_uid_costs_per_source = rev_uid_costs_per_source.reset_index()\n",
    "rev_uid_costs_per_source['index'] = 'source ' + rev_uid_costs_per_source['index'].astype('str')\n",
    "rev_uid_costs_per_source = rev_uid_costs_per_source.set_index('index')\n",
    "rev_uid_costs_per_source.columns = ['costs', 'revenue', 'uid', 'clients']\n",
    "\n",
    "#Убераю лишние индексы\n",
    "rev_uid_costs_per_source = rev_uid_costs_per_source.drop(['source 6', 'source 7'])\n",
    "rev_uid_costs_per_source"
   ]
  },
  {
   "cell_type": "code",
   "execution_count": 69,
   "metadata": {},
   "outputs": [
    {
     "data": {
      "text/html": [
       "<div>\n",
       "<style scoped>\n",
       "    .dataframe tbody tr th:only-of-type {\n",
       "        vertical-align: middle;\n",
       "    }\n",
       "\n",
       "    .dataframe tbody tr th {\n",
       "        vertical-align: top;\n",
       "    }\n",
       "\n",
       "    .dataframe thead th {\n",
       "        text-align: right;\n",
       "    }\n",
       "</style>\n",
       "<table border=\"1\" class=\"dataframe\">\n",
       "  <thead>\n",
       "    <tr style=\"text-align: right;\">\n",
       "      <th></th>\n",
       "      <th>costs</th>\n",
       "      <th>revenue</th>\n",
       "      <th>uid</th>\n",
       "      <th>clients</th>\n",
       "      <th>source_profit</th>\n",
       "    </tr>\n",
       "    <tr>\n",
       "      <th>index</th>\n",
       "      <th></th>\n",
       "      <th></th>\n",
       "      <th></th>\n",
       "      <th></th>\n",
       "      <th></th>\n",
       "    </tr>\n",
       "  </thead>\n",
       "  <tbody>\n",
       "    <tr>\n",
       "      <td>source 1</td>\n",
       "      <td>20833.27</td>\n",
       "      <td>31090.55</td>\n",
       "      <td>18999</td>\n",
       "      <td>2899.0</td>\n",
       "      <td>10257.28</td>\n",
       "    </tr>\n",
       "    <tr>\n",
       "      <td>source 2</td>\n",
       "      <td>42806.04</td>\n",
       "      <td>46923.61</td>\n",
       "      <td>26245</td>\n",
       "      <td>3506.0</td>\n",
       "      <td>4117.57</td>\n",
       "    </tr>\n",
       "    <tr>\n",
       "      <td>source 3</td>\n",
       "      <td>141321.63</td>\n",
       "      <td>54511.24</td>\n",
       "      <td>74756</td>\n",
       "      <td>10473.0</td>\n",
       "      <td>-86810.39</td>\n",
       "    </tr>\n",
       "    <tr>\n",
       "      <td>source 4</td>\n",
       "      <td>61073.60</td>\n",
       "      <td>56696.83</td>\n",
       "      <td>83525</td>\n",
       "      <td>10296.0</td>\n",
       "      <td>-4376.77</td>\n",
       "    </tr>\n",
       "    <tr>\n",
       "      <td>source 5</td>\n",
       "      <td>51757.10</td>\n",
       "      <td>52624.02</td>\n",
       "      <td>56974</td>\n",
       "      <td>6931.0</td>\n",
       "      <td>866.92</td>\n",
       "    </tr>\n",
       "    <tr>\n",
       "      <td>source 9</td>\n",
       "      <td>5517.49</td>\n",
       "      <td>5759.40</td>\n",
       "      <td>9264</td>\n",
       "      <td>1088.0</td>\n",
       "      <td>241.91</td>\n",
       "    </tr>\n",
       "    <tr>\n",
       "      <td>source 10</td>\n",
       "      <td>5822.49</td>\n",
       "      <td>4450.33</td>\n",
       "      <td>8067</td>\n",
       "      <td>1329.0</td>\n",
       "      <td>-1372.16</td>\n",
       "    </tr>\n",
       "  </tbody>\n",
       "</table>\n",
       "</div>"
      ],
      "text/plain": [
       "               costs   revenue    uid  clients  source_profit\n",
       "index                                                        \n",
       "source 1    20833.27  31090.55  18999   2899.0       10257.28\n",
       "source 2    42806.04  46923.61  26245   3506.0        4117.57\n",
       "source 3   141321.63  54511.24  74756  10473.0      -86810.39\n",
       "source 4    61073.60  56696.83  83525  10296.0       -4376.77\n",
       "source 5    51757.10  52624.02  56974   6931.0         866.92\n",
       "source 9     5517.49   5759.40   9264   1088.0         241.91\n",
       "source 10    5822.49   4450.33   8067   1329.0       -1372.16"
      ]
     },
     "execution_count": 69,
     "metadata": {},
     "output_type": "execute_result"
    }
   ],
   "source": [
    "#Чистая прибыль по источникам\n",
    "rev_uid_costs_per_source['source_profit'] = rev_uid_costs_per_source['revenue'] - rev_uid_costs_per_source['costs']\n",
    "\n",
    "rev_uid_costs_per_source"
   ]
  },
  {
   "cell_type": "markdown",
   "metadata": {},
   "source": [
    "Источники 3,4 и 10 убыточные. а вот к источникам 1 и 2 стоит присмотреться, они приносят наиболее большой профит (10257.28 и 4117.57 тыс. р. соответственно)"
   ]
  },
  {
   "cell_type": "markdown",
   "metadata": {},
   "source": [
    "#### Вывод: <a name=\"Шаг2.4\"></a>   \n",
    "  \n",
    "#### Продукт  \n",
    "\n",
    "**Количество пользователей в день, неделю, месяц**    \n",
    "Количество пользователей в день: 907  \n",
    "Количество пользователей в неделю: 5716  \n",
    "Количество пользователей в месяц: 23228\n",
    "  \n",
    "**Количество сессий в день**    \n",
    "Количество сессий в день приближено к количеству пользователей в день, похоже, чаще всего пользователи заходят на сайт по одному разу, либо никак не авторизуются и каждый последующий заход на сайт пользователю присваивается новый uid.  \n",
    "  \n",
    "**Длительность одной сессии**  \n",
    "Минимальная длительность сессии -1 days +23:14:00, похоже на ошибку в программе регистрации начала и окончания сессии;\n",
    "В среднем на сайте проводят 10 минут.  \n",
    "  \n",
    "**Как часто люди возвращаются**\n",
    "Тепловая карта показывает, что пользователи практически не возвращаются, лишь 5-7 % пользователей заходят на сайт через месяц после первой активности, возможно, это связано с тем;  \n",
    "После второго месяца возвращается примерно тоже количество людей и лишь после продолжительного времени процент вернувшихся пользователей падает до 2 - 2.75; Стоит заметить, что первая когорта показывает наилучший результат среди прочих; Как и было ранее отмечено, больше всего пользователей приходят в период с августа по ноябрь.  \n",
    "  \n",
    "####   Продажи   \n",
    "  \n",
    "**Когда люди начинают покупать?**  \n",
    "В среднем от визита до покупки проходит 16 дней 21 час 40 минут, минимум - 0, вероятно, ошибка в записи данных;\n",
    "Медианное значение - 16 минут;  \n",
    "Дольше всех покупатель совершал покупку почти год - 363 дня.  \n",
    "  \n",
    "**Количество покупок за период**  \n",
    "В среднем в день покупают 138 раз, в неделю 969 и 4201 в месяц;  \n",
    "Максимальное количество покупок в день 814, в неделю 1894 и 6218 в месяц.  \n",
    "  \n",
    "**Средний чек за месяц**  \n",
    "Средний чек в месяц равен 4.95 тыс. рублей.  \n",
    "  \n",
    "**Сколько денег приносят? (LTV)**   \n",
    "В среднем каждый покупатель из первой когорты принес по 11.88 тыс. рублей выручки за 11 месяцев жизни;    \n",
    "По общей картине можно сказать, что средняя выручка от когорт варьируется по месяцам в большую и меньшую сторону. Независимо от того, что мало покупателей возвращаются в последующие месяцы, выручка увеличивается.  \n",
    "  \n",
    "####  Маркетинг  \n",
    "\n",
    "**Сколько денег потратили? Всего / на каждый источник / по времени**   \n",
    "За весь период на рекламу потратили 329131.62 тыс. рублей;  \n",
    "Больше всего уходит на рекламу в источнике 3 - 141321.63 тыс. а меньше всего на источник 9, было бы логично, если бы источник 3 приносил больше всего покупателей. Проверим данные;  \n",
    "Больше всего в рекламу вкладываются в зимние месяцы ~37907.88 в месяц, меньше всего в летние 14790.54 - 18015.00 в месяц, что варьируется с тем, что покупателей больше приходит зимой, чем летом.  \n",
    "  \n",
    "**Стоимость привлечения одного покупателя из каждого источника**  \n",
    "Больше всего денег уходит на привлечение одного покупателя по рекламным источникам 2 и 3, по данным источникам в среднем покупатель обходится в 12.8 тыс. руб.  \n",
    "Самым бюджетным привлечение покупателей получается по источнику 10. \n",
    "  \n",
    "**На сколько окупились расходы? (ROI)**  \n",
    "Окупаемость = -0.234, что затраты превышают выручку, бизнес находится в убытке. Расходы не окупились.    \n",
    " \n",
    "\n"
   ]
  },
  {
   "cell_type": "markdown",
   "metadata": {},
   "source": [
    "### Шаг 3. Вывод: рекомендации маркетологам, куда и сколько стоит вкладывать денег <a name=\"Шаг3\"></a> "
   ]
  },
  {
   "cell_type": "markdown",
   "metadata": {},
   "source": [
    "#### Продукт  \n",
    "  \n",
    "**Количество пользователей в день, неделю, месяц**    \n",
    "Количество пользователей в день: 907  \n",
    "Количество пользователей в неделю: 5716  \n",
    "Количество пользователей в месяц: 23228\n",
    "  \n",
    "**Количество сессий в день**    \n",
    "Количество сессий в день приближено к количеству пользователей в день, похоже, чаще всего пользователи заходят на сайт по одному разу, либо никак не авторизуются и каждый последующий заход на сайт пользователю присваивается новый uid.  \n",
    "  \n",
    "**Длительность одной сессии**  \n",
    "Минимальная длительность сессии -1 days +23:14:00, похоже на ошибку в программе регистрации начала и окончания сессии;\n",
    "В среднем на сайте проводят 10 минут.  \n",
    "  \n",
    "**Как часто люди возвращаются**\n",
    "Тепловая карта показывает, что пользователи практически не возвращаются, лишь 5-7 % пользователей заходят на сайт через месяц после первой активности, возможно, это связано с тем;  \n",
    "После второго месяца возвращается примерно тоже количество людей и лишь после продолжительного времени процент вернувшихся пользователей падает до 2 - 2.75; Стоит заметить, что первая когорта показывает наилучший результат среди прочих; Как и было ранее отмечено, больше всего пользователей приходят в период с августа по ноябрь.  \n",
    "  \n",
    "####   Продажи   \n",
    "  \n",
    "**Когда люди начинают покупать?**  \n",
    "В среднем от визита до покупки проходит 16 дней 21 час 40 минут, минимум - 0, вероятно, ошибка в записи данных;\n",
    "Медианное значение - 16 минут;  \n",
    "Дольше всех покупатель совершал покупку почти год - 363 дня.  \n",
    "  \n",
    "**Количество покупок за период**  \n",
    "В среднем в день покупают 138 раз, в неделю 969 и 4201 в месяц;  \n",
    "Максимальное количество покупок в день 814, в неделю 1894 и 6218 в месяц.  \n",
    "  \n",
    "**Средний чек за месяц**  \n",
    "Средний чек в месяц равен 4.95 тыс. рублей.  \n",
    "  \n",
    "**Сколько денег приносят? (LTV)**   \n",
    "В среднем каждый покупатель из первой когорты принес по 11.88 тыс. рублей выручки за 11 месяцев жизни;    \n",
    "По общей картине можно сказать, что средняя выручка от когорт варьируется по месяцам в большую и меньшую сторону. Независимо от того, что мало покупателей возвращаются в последующие месяцы, выручка увеличивается.  \n",
    "  \n",
    "####  Маркетинг  \n",
    "\n",
    "**Сколько денег потратили? Всего / на каждый источник / по времени**   \n",
    "За весь период на рекламу потратили 329131.62 тыс. рублей;  \n",
    "Больше всего уходит на рекламу в источнике 3 - 141321.63 тыс. а меньше всего на источник 9, было бы логично, если бы источник 3 приносил больше всего покупателей. Проверим данные;  \n",
    "Больше всего в рекламу вкладываются в зимние месяцы ~37907.88 в месяц, меньше всего в летние 14790.54 - 18015.00 в месяц, что варьируется с тем, что покупателей больше приходит зимой, чем летом.  \n",
    "  \n",
    "**Стоимость привлечения одного покупателя из каждого источника**  \n",
    "Больше всего денег уходит на привлечение одного покупателя по рекламным источникам 2 и 3, по данным источникам в среднем покупатель обходится в 12.8 тыс. руб.  \n",
    "Самым бюджетным привлечение покупателей получается по источнику 10.  \n",
    "  \n",
    "**На сколько окупились расходы? (ROI)**  \n",
    "Окупаемость = -0.234, что затраты превышают выручку, бизнес находится в убытке. Расходы не окупились.   \n",
    "\n",
    "Источники 3,4, 10 убыточные, возможно сотрудничество с ними стоит прекратить.\n",
    "Больше всего окупился источник 1.\n",
    "\n",
    "По полученным данным видно, что через компьютеры на сайте покупают чаще, чем через мобильные устройства, больше клиентов и больше прибыль (211329.77 принесли компьютеры и 40727.43 мобильные устройства).\n",
    "\n",
    "Источники 3,4 и 10 убыточные, как уже быть отмечено по результатам CAC, а вот к источникам 1 и 2 стоит присмотреться, они приносят наиболее большой профит (10257.28 и 4117.57 тыс. р. соответственно)\n"
   ]
  },
  {
   "cell_type": "markdown",
   "metadata": {},
   "source": [
    "**Рекомендации по платформам:**  \n",
    "  \n",
    "С учетом всего вышеизложенного стоит присмотреться к **рекламе для ПК версии**, поскольку через компьютеры приходит в 5 раз больше денег, а соответственно и покупателей, чем через мобильные устройства.   \n",
    "\n",
    "\n",
    "**Рекомендации по источникам:** \n",
    "\n",
    "Исходя из того, что источники 3,4 одни из самых дорогостоящих по привлечению клиентов, но это дороговизна себя не окупает, от них стоит **отказаться**, также как и от источника 10, так как несмотря на дешевизну привлечения одного покупателя, источник себя не окупает. А вот источники 1,2 наоборот стоит **привлекать чаще**, ведь прибыль от них наибольшая, также можно продолжить сотрудничать с источниками 5, 9, поскольку прибыль они все же приносят, но не такую существенную. Выбираю из источников 5 и 9 стоит сделать акцент на источнике 9, поскольку стоимость привлечения одного покупателя у него самая низкая."
   ]
  }
 ],
 "metadata": {
  "kernelspec": {
   "display_name": "Python 3",
   "language": "python",
   "name": "python3"
  },
  "language_info": {
   "codemirror_mode": {
    "name": "ipython",
    "version": 3
   },
   "file_extension": ".py",
   "mimetype": "text/x-python",
   "name": "python",
   "nbconvert_exporter": "python",
   "pygments_lexer": "ipython3",
   "version": "3.7.6"
  }
 },
 "nbformat": 4,
 "nbformat_minor": 2
}
